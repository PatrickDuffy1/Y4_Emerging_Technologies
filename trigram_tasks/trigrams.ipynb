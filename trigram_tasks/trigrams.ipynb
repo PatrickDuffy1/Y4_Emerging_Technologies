{
 "cells": [
  {
   "cell_type": "code",
   "execution_count": 1,
   "id": "641b7122-c742-4429-a56f-d8d5981f1ab8",
   "metadata": {},
   "outputs": [],
   "source": [
    "# Used for reading the book files in Task 1\n",
    "# https://docs.python.org/3/library/os.html\n",
    "import os\n",
    "\n",
    "# Used for cleaning the book text using regex in Task 1\n",
    "# https://docs.python.org/3/library/re.html\n",
    "import re\n",
    "\n",
    "# Used for finding matching sequences in Task 2\n",
    "# https://docs.python.org/3/library/fnmatch.html\n",
    "import fnmatch"
   ]
  },
  {
   "cell_type": "markdown",
   "id": "9147a4c3-dee8-47e4-9f85-3a8f17fe7e16",
   "metadata": {},
   "source": [
    "## Task 1: Third-order letter approximation model\n",
    "Create a trigram model from the given books"
   ]
  },
  {
   "cell_type": "code",
   "execution_count": 2,
   "id": "ad9be394-3ad6-4ea9-aee2-3486b48ee437",
   "metadata": {},
   "outputs": [],
   "source": [
    "def create_trigram_model():\n",
    "\n",
    "    BOOK_DIRECTORY_PATH = \"./books\"\n",
    "\n",
    "    # Read in all of the text from the supplied books as training data\n",
    "    book_text = read_in_files_from_directory(BOOK_DIRECTORY_PATH)\n",
    "\n",
    "    # Remove unwanted characters from the text and convert to uppercase\n",
    "    book_text = cleaned_book_text = clean_text(book_text)\n",
    "\n",
    "    # Print first 500 characters as a test\n",
    "    # print(book_text[0:500])\n",
    "\n",
    "    # Create the trigram model\n",
    "    trigram_model = create_trigram_model_from_training_text(book_text)\n",
    "\n",
    "    return trigram_model"
   ]
  },
  {
   "cell_type": "markdown",
   "id": "88e55bdd-0c9c-4322-9e9d-b6b6ea76617b",
   "metadata": {},
   "source": [
    "## Task 2: Third-order letter approximation generation\n",
    "\n",
    "Generate new text using the trigram model from Task 1"
   ]
  },
  {
   "cell_type": "code",
   "execution_count": 3,
   "id": "3fdda014-375b-4fad-a6a6-0b078298aba0",
   "metadata": {},
   "outputs": [],
   "source": [
    "def generate_new_text(initial_text, trigram_model, num_chars_to_generate):\n",
    "\n",
    "    # Clean the initial text\n",
    "    text = clean_text(initial_text)\n",
    "\n",
    "    # Raise exception if the length cleaned initial text is less than 2\n",
    "    if len(text) < 2:\n",
    "        raise Exception(\"Error: Initial text length cannot be less than 2\")\n",
    "\n",
    "    # For testing.\n",
    "    generate_next_char(text, trigram_model)"
   ]
  },
  {
   "cell_type": "code",
   "execution_count": 4,
   "id": "f7fbad3d-080c-4c1c-b529-b3e90a8bab43",
   "metadata": {},
   "outputs": [],
   "source": [
    "# Read all files in a given directory\n",
    "def read_in_files_from_directory(directory_name):\n",
    "    \n",
    "    # Get the file names the books\n",
    "    book_list = os.listdir(directory_name)\n",
    "    text = \"\"\n",
    "\n",
    "    print(\"Files and directories in '\", directory_name, \"' :\", book_list, \"\\n\")\n",
    "\n",
    "    # Read in all of the text from the books\n",
    "    for book in book_list:\n",
    "        # Open the current book\n",
    "        f = open(directory_name + \"/\" + book, \"r\", encoding=\"utf8\")\n",
    "\n",
    "        # Read the contents of the current book\n",
    "        current_book_text = f.read()\n",
    "\n",
    "        # Remove the preamble and postamble from the current book\n",
    "        current_book_text = remove_preabmle_and_postamble(current_book_text)\n",
    "        \n",
    "        text += current_book_text + \"\\n\"\n",
    "        f.close()\n",
    "        \n",
    "    return text"
   ]
  },
  {
   "cell_type": "code",
   "execution_count": 5,
   "id": "2b13f4f5-bdbf-4d28-bf5f-303e9a350fc9",
   "metadata": {},
   "outputs": [],
   "source": [
    "# Remove preabmle and postamble from given book text\n",
    "def remove_preabmle_and_postamble(text):\n",
    "\n",
    "    end_of_preamble_string = \"*\\n\"\n",
    "    end_of_postamble_string = \"\\n*\"\n",
    "\n",
    "    # Remove preamble and postabmle\n",
    "    # https://stackoverflow.com/a/59903231\n",
    "    text = text[text.find(end_of_preamble_string):text.rfind(end_of_postamble_string)]\n",
    "\n",
    "    # Remove \"*\" from start and end of trimmed text\n",
    "    text = text[1:-1]\n",
    "\n",
    "    # Remove blank lines from start and end of from trimmed text\n",
    "    text = text.strip()\n",
    "\n",
    "    # Test if the preamble and post amble were removed correctly\n",
    "    # print(text[0:500], \"\\n=============\\n\")\n",
    "    # print(text[len(text) - 500:len(text)], \"\\n=============\\n\")\n",
    "\n",
    "    return text"
   ]
  },
  {
   "cell_type": "code",
   "execution_count": 6,
   "id": "6eb382b2-8af6-41f2-9574-666eea5f55b0",
   "metadata": {},
   "outputs": [],
   "source": [
    "# Remove unwanted characters from a given string\n",
    "def clean_text(text):\n",
    "\n",
    "    # Remove unwanted characters from the text\n",
    "    cleaned_text = re.sub(r'[^a-zA-Z\\s.]', '', text)\n",
    "    cleaned_text = re.sub(' +', ' ', cleaned_text)\n",
    "    cleaned_text = cleaned_text.replace(\"\\n\", \" \")\n",
    "\n",
    "    # Convert all characters to uppercase\n",
    "    cleaned_text = cleaned_text.upper()\n",
    "    \n",
    "    return cleaned_text"
   ]
  },
  {
   "cell_type": "code",
   "execution_count": 7,
   "id": "3cdff456-7e1e-4927-93b7-d7f2dae55d9a",
   "metadata": {},
   "outputs": [],
   "source": [
    "# Create a trigram model based on given training text\n",
    "def create_trigram_model_from_training_text(text):\n",
    "\n",
    "    trigram_model = {}\n",
    "\n",
    "    # Iterate through all of the characters in the text\n",
    "    for char_index in range(1, len(text) - 1):\n",
    "\n",
    "        # Get the current three character sequence\n",
    "        current_sequence = text[char_index - 1] + text[char_index] + text[char_index + 1]\n",
    "\n",
    "        # If sequence exists in dictionary, increase its count by 1.\n",
    "        # Otherwise, add seuence to dictionary and set its count to 1.\n",
    "        if current_sequence in trigram_model:\n",
    "            trigram_model[current_sequence] += 1\n",
    "        else:\n",
    "            trigram_model[current_sequence] = 1\n",
    "            \n",
    "    return trigram_model"
   ]
  },
  {
   "cell_type": "code",
   "execution_count": 8,
   "id": "9dc721cd-ec8e-423e-bf8d-6be737d63a47",
   "metadata": {},
   "outputs": [],
   "source": [
    "# Generate the next character based on the previous two characters \n",
    "def generate_next_char(sequence, model):\n",
    "\n",
    "    # For testing. The rest of the function will be implemented later\n",
    "    return find_matching_sequences(sequence, model)"
   ]
  },
  {
   "cell_type": "code",
   "execution_count": 9,
   "id": "3817230e-9231-4696-ba87-97830825ad10",
   "metadata": {},
   "outputs": [],
   "source": [
    "# Find all trigram sequences that have the same first two characters as the given two character sequence\n",
    "def find_matching_sequences(sequence, model):\n",
    "\n",
    "    # Get all of the trigram sequences\n",
    "    matching_sequences_list = trigram_model.keys()\n",
    "\n",
    "    # Get all of the sequences where thefirst two characters match the given two character sequence.\n",
    "    matching_sequences_list = fnmatch.filter(matching_sequences_list, sequence + \"?\")\n",
    "    \n",
    "    matching_sequences_dict = {}\n",
    "\n",
    "    # Create dictionary from the matching sequences and the amount of times they appeared in the training text\n",
    "    for sequence in matching_sequences_list:\n",
    "        matching_sequences_dict[sequence] = model[sequence]\n",
    "\n",
    "    # Test if the matching sequences were found\n",
    "    print(matching_sequences_dict)\n",
    "    \n",
    "    return matching_sequences_dict"
   ]
  },
  {
   "cell_type": "markdown",
   "id": "de44255d-ac30-4529-b2f2-e975e9fe10cb",
   "metadata": {},
   "source": [
    "## Run the program"
   ]
  },
  {
   "cell_type": "code",
   "execution_count": 10,
   "id": "e4229a7d-d6d1-4af8-af68-7a6034bc6f6c",
   "metadata": {},
   "outputs": [
    {
     "name": "stdout",
     "output_type": "stream",
     "text": [
      "Files and directories in ' ./books ' : ['Frankenstein.txt', 'LittleWomen.txt', 'MiddleMarch.txt', 'MobyDick.txt', 'PrideAndPrejudice.txt'] \n",
      "\n",
      "{'THE': 66321, 'TH ': 12253, 'THA': 15269, 'THI': 10000, 'THO': 4840, 'THS': 463, 'THU': 445, 'THR': 1768, 'TH.': 418, 'THY': 386, 'THW': 74, 'THL': 89, 'THB': 6, 'THQ': 14, 'THD': 70, 'THF': 99, 'THH': 16, 'THK': 4, 'THT': 16, 'THV': 1, 'THM': 18, 'THC': 6, 'THP': 6, 'THN': 4, 'THG': 4}\n"
     ]
    }
   ],
   "source": [
    "# Create the trigram model\n",
    "trigram_model = create_trigram_model()\n",
    "\n",
    "# Print trigram model as test\n",
    "# print(trigram_model)\n",
    "\n",
    "# Generate new text. Pass the initial text, the trigram model, and the amount of characters to generate\n",
    "generate_new_text(\"TH\", trigram_model, 10000)"
   ]
  },
  {
   "cell_type": "code",
   "execution_count": null,
   "id": "94f69c81-6586-449e-a9e4-72ba48721560",
   "metadata": {},
   "outputs": [],
   "source": []
  }
 ],
 "metadata": {
  "kernelspec": {
   "display_name": "Python 3 (ipykernel)",
   "language": "python",
   "name": "python3"
  },
  "language_info": {
   "codemirror_mode": {
    "name": "ipython",
    "version": 3
   },
   "file_extension": ".py",
   "mimetype": "text/x-python",
   "name": "python",
   "nbconvert_exporter": "python",
   "pygments_lexer": "ipython3",
   "version": "3.11.0"
  }
 },
 "nbformat": 4,
 "nbformat_minor": 5
}

{
 "cells": [
  {
   "cell_type": "code",
   "execution_count": 1,
   "id": "641b7122-c742-4429-a56f-d8d5981f1ab8",
   "metadata": {},
   "outputs": [],
   "source": [
    "# Used for reading the book files\n",
    "import os\n",
    "\n",
    "# Used for cleaning the book text\n",
    "import re"
   ]
  },
  {
   "cell_type": "markdown",
   "id": "9147a4c3-dee8-47e4-9f85-3a8f17fe7e16",
   "metadata": {},
   "source": [
    "## Task 1: Third-order letter approximation model\n",
    "Create a trigram model from the given books"
   ]
  },
  {
   "cell_type": "code",
   "execution_count": 2,
   "id": "ad9be394-3ad6-4ea9-aee2-3486b48ee437",
   "metadata": {},
   "outputs": [],
   "source": [
    "def create_trigram_model():\n",
    "\n",
    "    BOOK_DIRECTORY_PATH = \"./books\"\n",
    "\n",
    "    # Read in all of the text from the supplied books as training data\n",
    "    book_text = read_in_files_from_directory(BOOK_DIRECTORY_PATH)\n",
    "\n",
    "    # Remove unwanted characters from the text and convert to uppercase\n",
    "    book_text = cleaned_book_text = clean_text(book_text)\n",
    "\n",
    "    # Print first 500 characters as a test\n",
    "    print(book_text[0:500])"
   ]
  },
  {
   "cell_type": "code",
   "execution_count": 3,
   "id": "f7fbad3d-080c-4c1c-b529-b3e90a8bab43",
   "metadata": {},
   "outputs": [],
   "source": [
    "# Read all files in a given directory\n",
    "def read_in_files_from_directory(directory_name):\n",
    "    \n",
    "    # Get the file names the books\n",
    "    book_list = os.listdir(directory_name)\n",
    "    text = \"\"\n",
    "\n",
    "    print(\"Files and directories in '\", directory_name, \"' :\", book_list)\n",
    "\n",
    "    # Read in all of the text from the books\n",
    "    for book in book_list:\n",
    "        # Open the current book\n",
    "        f = open(directory_name + \"/\" + book, \"r\", encoding=\"utf8\")\n",
    "\n",
    "        # Read the contents of the current book\n",
    "        current_book_text = f.read()\n",
    "\n",
    "        # Remove the preamble and postamble from the current book\n",
    "        current_book_text = remove_preabmle_and_postamble(current_book_text)\n",
    "        \n",
    "        text += current_book_text + \"\\n\"\n",
    "        f.close()\n",
    "        \n",
    "    return text"
   ]
  },
  {
   "cell_type": "code",
   "execution_count": 4,
   "id": "2b13f4f5-bdbf-4d28-bf5f-303e9a350fc9",
   "metadata": {},
   "outputs": [],
   "source": [
    "# Remove preabmle and postamble from given book text\n",
    "def remove_preabmle_and_postamble(text):\n",
    "\n",
    "    end_of_preamble_string = \"*\\n\"\n",
    "    end_of_postamble_string = \"\\n*\"\n",
    "\n",
    "    # Remove preamble and postabmle\n",
    "    # https://stackoverflow.com/a/59903231\n",
    "    text = text[text.find(end_of_preamble_string):text.rfind(end_of_postamble_string)]\n",
    "\n",
    "    # Remove \"*\" from start and end of trimmed text\n",
    "    text = text[1:-1]\n",
    "\n",
    "    # Remove blank lines from start and end of from trimmed text\n",
    "    text = text.strip()\n",
    "\n",
    "    # Test if the preamble and post amble were removed correctly\n",
    "    # print(text[0:500], \"\\n=============\\n\")\n",
    "    # print(text[len(text) - 500:len(text)], \"\\n=============\\n\")\n",
    "\n",
    "    return text"
   ]
  },
  {
   "cell_type": "code",
   "execution_count": 5,
   "id": "6eb382b2-8af6-41f2-9574-666eea5f55b0",
   "metadata": {},
   "outputs": [],
   "source": [
    "# Remove unwanted characters from a given string\n",
    "def clean_text(text):\n",
    "\n",
    "    # Remove unwanted characters from the text\n",
    "    cleaned_text = re.sub(r'[^a-zA-Z\\s.]', '', text)\n",
    "    cleaned_text = re.sub(' +', ' ', cleaned_text)\n",
    "    cleaned_text = cleaned_text.replace(\"\\n\", \" \")\n",
    "\n",
    "    # Convert all characters to uppercase\n",
    "    cleaned_text = cleaned_text.upper()\n",
    "    \n",
    "    return cleaned_text"
   ]
  },
  {
   "cell_type": "markdown",
   "id": "de44255d-ac30-4529-b2f2-e975e9fe10cb",
   "metadata": {},
   "source": [
    "## Run the program"
   ]
  },
  {
   "cell_type": "code",
   "execution_count": 6,
   "id": "e4229a7d-d6d1-4af8-af68-7a6034bc6f6c",
   "metadata": {},
   "outputs": [
    {
     "name": "stdout",
     "output_type": "stream",
     "text": [
      "Files and directories in ' ./books ' : ['Frankenstein.txt', 'LittleWomen.txt', 'MiddleMarch.txt', 'MobyDick.txt', 'PrideAndPrejudice.txt']\n",
      "FRANKENSTEIN  OR THE MODERN PROMETHEUS  BY MARY WOLLSTONECRAFT GODWIN SHELLEY    CONTENTS   LETTER   LETTER   LETTER   LETTER   CHAPTER   CHAPTER   CHAPTER   CHAPTER   CHAPTER   CHAPTER   CHAPTER   CHAPTER   CHAPTER   CHAPTER   CHAPTER   CHAPTER   CHAPTER   CHAPTER   CHAPTER   CHAPTER   CHAPTER   CHAPTER   CHAPTER   CHAPTER   CHAPTER   CHAPTER   CHAPTER   CHAPTER      LETTER   TO MRS. SAVILLE ENGLAND.   ST. PETERSBURGH DEC. TH .   YOU WILL REJOICE TO HEAR THAT NO DISASTER HAS ACCOMPANIED THE COM\n"
     ]
    }
   ],
   "source": [
    "create_trigram_model()"
   ]
  }
 ],
 "metadata": {
  "kernelspec": {
   "display_name": "Python 3 (ipykernel)",
   "language": "python",
   "name": "python3"
  },
  "language_info": {
   "codemirror_mode": {
    "name": "ipython",
    "version": 3
   },
   "file_extension": ".py",
   "mimetype": "text/x-python",
   "name": "python",
   "nbconvert_exporter": "python",
   "pygments_lexer": "ipython3",
   "version": "3.11.0"
  }
 },
 "nbformat": 4,
 "nbformat_minor": 5
}

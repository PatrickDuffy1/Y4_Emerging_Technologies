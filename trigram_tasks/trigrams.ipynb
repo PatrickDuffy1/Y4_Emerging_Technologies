{
 "cells": [
  {
   "cell_type": "code",
   "execution_count": 1,
   "id": "641b7122-c742-4429-a56f-d8d5981f1ab8",
   "metadata": {},
   "outputs": [],
   "source": [
    "# Used for reading the book files in Task 1\n",
    "# https://docs.python.org/3/library/os.html\n",
    "import os\n",
    "\n",
    "# Used for cleaning the book text using regex in Task 1\n",
    "# https://docs.python.org/3/library/re.html\n",
    "import re\n",
    "\n",
    "# Used for finding matching sequences in Task 2\n",
    "# https://docs.python.org/3/library/fnmatch.html\n",
    "import fnmatch\n",
    "\n",
    "# Used for choosing a random sequence in Task 2\n",
    "# https://docs.python.org/3/library/random.html\n",
    "import random\n",
    "\n",
    "# Used to write the trigram model to JSON file in Task 4\n",
    "# https://docs.python.org/3/library/json.html\n",
    "import json"
   ]
  },
  {
   "cell_type": "markdown",
   "id": "9147a4c3-dee8-47e4-9f85-3a8f17fe7e16",
   "metadata": {},
   "source": [
    "## Task 1: Third-order letter approximation model\n",
    "Create a trigram model from the given books"
   ]
  },
  {
   "cell_type": "code",
   "execution_count": 2,
   "id": "ad9be394-3ad6-4ea9-aee2-3486b48ee437",
   "metadata": {},
   "outputs": [],
   "source": [
    "def create_trigram_model():\n",
    "\n",
    "    print(\"Creating trigram model...\")\n",
    "\n",
    "    BOOK_DIRECTORY_PATH = \"./books\"\n",
    "\n",
    "    # Read in all of the text from the supplied books as training data\n",
    "    book_text = read_in_files_from_directory(BOOK_DIRECTORY_PATH)\n",
    "\n",
    "    # Remove unwanted characters from the text and convert to uppercase\n",
    "    book_text = cleaned_book_text = clean_text(book_text)\n",
    "\n",
    "    # Print first 500 characters as a test\n",
    "    # print(book_text[0:500])\n",
    "\n",
    "    # Create the trigram model\n",
    "    trigram_model = create_trigram_model_from_training_text(book_text)\n",
    "\n",
    "    return trigram_model"
   ]
  },
  {
   "cell_type": "markdown",
   "id": "88e55bdd-0c9c-4322-9e9d-b6b6ea76617b",
   "metadata": {},
   "source": [
    "## Task 2: Third-order letter approximation generation\n",
    "\n",
    "Generate new text using the trigram model from Task 1"
   ]
  },
  {
   "cell_type": "code",
   "execution_count": 3,
   "id": "3fdda014-375b-4fad-a6a6-0b078298aba0",
   "metadata": {},
   "outputs": [],
   "source": [
    "# Generate new text based on given initial text until a given character limit is reached\n",
    "def generate_new_text(initial_text, trigram_model, num_chars_to_generate):\n",
    "\n",
    "    print(\"Generating new text...\")\n",
    "\n",
    "    # Clean the initial text\n",
    "    text = clean_text(initial_text)\n",
    "\n",
    "    # If true, print new chacter as it is generated\n",
    "    # If false, only print text once every character has being generated\n",
    "    stream_generation = True\n",
    "\n",
    "    # Raise exception if the length cleaned initial text is less than 2\n",
    "    if len(text) < 2:\n",
    "        raise Exception(\"Error: Initial text length cannot be less than 2\")\n",
    "\n",
    "    if stream_generation:\n",
    "        print(text, end=\"\")\n",
    "    \n",
    "    start_index = len(text) - 1\n",
    "\n",
    "    # Generate new characters until the given limit is reached\n",
    "    for char_index in range(start_index, num_chars_to_generate):\n",
    "\n",
    "        # Append the generated character to the existing text\n",
    "        text += generate_next_char(text[char_index - 1] + text[char_index], trigram_model, stream_generation)\n",
    "\n",
    "    if not stream_generation:\n",
    "        print(text)\n",
    "\n",
    "    print(\"\\n\\n\")\n",
    "        \n",
    "    return text"
   ]
  },
  {
   "cell_type": "markdown",
   "id": "146a0bba-e8cd-4c3d-b646-5c80f505be36",
   "metadata": {},
   "source": [
    "## Task 3: Analyze the model\n",
    "\n",
    "Analyze the trigram model by calculating the percentage of valid words in the generated text from Task 2"
   ]
  },
  {
   "cell_type": "code",
   "execution_count": 4,
   "id": "70a8b071-5212-4ae0-92e9-5b28db59244d",
   "metadata": {},
   "outputs": [],
   "source": [
    "# Calculate and return the the percentage of valid words in the generated text\n",
    "def calculate_percentage_of_valid_words(word_set, generated_text):\n",
    "\n",
    "    print(\"Evaluating model...\")\n",
    "\n",
    "    # Split the list of words and store them in a list\n",
    "    list_of_words = generated_text.split(\" \")\n",
    "    \n",
    "    total_words = len(list_of_words)\n",
    "    valid_word_count = 0\n",
    "\n",
    "    # Loop through every word in the generated text\n",
    "    for word in list_of_words:\n",
    "\n",
    "        \"\"\" Check if the current word is in the valid word set, and increment valid_word_count if it is.\n",
    "        Note: Valid words are stored as a set because checking if an element is in a set has an average case time\n",
    "        complexity of O(1), while checking if an element is in a list has an average case time complexity of O(n).\n",
    "        https://wiki.python.org/moin/TimeComplexity\n",
    "        \"\"\"\n",
    "        if word in word_set:\n",
    "            valid_word_count += 1\n",
    "\n",
    "    # Return the percentage of valid words\n",
    "    return (valid_word_count / total_words) * 100"
   ]
  },
  {
   "cell_type": "markdown",
   "id": "2fdef25b-ddd5-43ab-8aba-e4a73f594f99",
   "metadata": {},
   "source": [
    "## Task 4: Export the model as JSON\n",
    "Export the model as a JSON file"
   ]
  },
  {
   "cell_type": "code",
   "execution_count": 5,
   "id": "683c7b8a-d0c8-4073-b202-4312a058c095",
   "metadata": {},
   "outputs": [],
   "source": [
    "# Export model as JSON\n",
    "def write_model_to_json_file(model):\n",
    "\n",
    "    print(\"Exporting model as JSON...\")\n",
    "\n",
    "    file_path = \"trigrams.json\"\n",
    "\n",
    "    # Write the trigram model to the JSON file\n",
    "    with open(file_path, \"w\") as outfile: \n",
    "        json.dump(model, outfile)\n",
    "\n",
    "    print(\"Model exported\")"
   ]
  },
  {
   "cell_type": "markdown",
   "id": "d9b76295-d65e-4278-9aba-a8c587489a7a",
   "metadata": {},
   "source": [
    "## Other functions"
   ]
  },
  {
   "cell_type": "code",
   "execution_count": 6,
   "id": "f7fbad3d-080c-4c1c-b529-b3e90a8bab43",
   "metadata": {},
   "outputs": [],
   "source": [
    "# Read all files in a given directory\n",
    "def read_in_files_from_directory(directory_name):\n",
    "    \n",
    "    # Get the file names the books\n",
    "    book_list = os.listdir(directory_name)\n",
    "    text = \"\"\n",
    "\n",
    "    print(\"Training data books:\", book_list, \"\\n\")\n",
    "\n",
    "    # Read in all of the text from the books\n",
    "    for book in book_list:\n",
    "        # Open the current book\n",
    "        f = open(directory_name + \"/\" + book, \"r\", encoding=\"utf8\")\n",
    "\n",
    "        # Read the contents of the current book\n",
    "        current_book_text = f.read()\n",
    "\n",
    "        # Remove the preamble and postamble from the current book\n",
    "        current_book_text = remove_preabmle_and_postamble(current_book_text)\n",
    "        \n",
    "        text += current_book_text + \"\\n\"\n",
    "        f.close()\n",
    "        \n",
    "    return text"
   ]
  },
  {
   "cell_type": "code",
   "execution_count": 7,
   "id": "2b13f4f5-bdbf-4d28-bf5f-303e9a350fc9",
   "metadata": {},
   "outputs": [],
   "source": [
    "# Remove preabmle and postamble from given book text\n",
    "def remove_preabmle_and_postamble(text):\n",
    "\n",
    "    end_of_preamble_string = \"*\\n\"\n",
    "    end_of_postamble_string = \"\\n*\"\n",
    "\n",
    "    # Remove preamble and postabmle\n",
    "    # https://stackoverflow.com/a/59903231\n",
    "    text = text[text.find(end_of_preamble_string):text.rfind(end_of_postamble_string)]\n",
    "\n",
    "    # Remove \"*\" from start and end of trimmed text\n",
    "    text = text[1:-1]\n",
    "\n",
    "    # Remove blank lines from start and end of from trimmed text\n",
    "    text = text.strip()\n",
    "\n",
    "    # Test if the preamble and post amble were removed correctly\n",
    "    # print(text[0:500], \"\\n=============\\n\")\n",
    "    # print(text[len(text) - 500:len(text)], \"\\n=============\\n\")\n",
    "\n",
    "    return text"
   ]
  },
  {
   "cell_type": "code",
   "execution_count": 8,
   "id": "6eb382b2-8af6-41f2-9574-666eea5f55b0",
   "metadata": {},
   "outputs": [],
   "source": [
    "# Remove unwanted characters from a given string\n",
    "def clean_text(text):\n",
    "\n",
    "    # Remove unwanted characters from the text\n",
    "    cleaned_text = re.sub(r'[^a-zA-Z\\s.]', '', text)\n",
    "    cleaned_text = re.sub(' +', ' ', cleaned_text)\n",
    "    cleaned_text = cleaned_text.replace(\"\\n\", \" \")\n",
    "\n",
    "    # Convert all characters to uppercase\n",
    "    cleaned_text = cleaned_text.upper()\n",
    "    \n",
    "    return cleaned_text"
   ]
  },
  {
   "cell_type": "code",
   "execution_count": 9,
   "id": "3cdff456-7e1e-4927-93b7-d7f2dae55d9a",
   "metadata": {},
   "outputs": [],
   "source": [
    "# Create a trigram model based on given training text\n",
    "def create_trigram_model_from_training_text(text):\n",
    "\n",
    "    trigram_model = {}\n",
    "\n",
    "    # Iterate through all of the characters in the text\n",
    "    for char_index in range(1, len(text) - 1):\n",
    "\n",
    "        # Get the current three character sequence\n",
    "        current_sequence = text[char_index - 1] + text[char_index] + text[char_index + 1]\n",
    "\n",
    "        # If sequence exists in dictionary, increase its count by 1.\n",
    "        # Otherwise, add seuence to dictionary and set its count to 1.\n",
    "        if current_sequence in trigram_model:\n",
    "            trigram_model[current_sequence] += 1\n",
    "        else:\n",
    "            trigram_model[current_sequence] = 1\n",
    "            \n",
    "    return trigram_model"
   ]
  },
  {
   "cell_type": "code",
   "execution_count": 10,
   "id": "9dc721cd-ec8e-423e-bf8d-6be737d63a47",
   "metadata": {},
   "outputs": [],
   "source": [
    "# Generate the next character based on the previous two characters \n",
    "def generate_next_char(sequence, model, stream_generation):\n",
    "\n",
    "    # Find all sequences where the first two characters match the given two character sequence\n",
    "    matching_sequences = find_matching_sequences(sequence, model)\n",
    "\n",
    "    # Randomly choose a sequence based on the sequence weights\n",
    "    chosen_sequence = str(random.choices(list(matching_sequences.keys()), weights = list(matching_sequences.values()))[0])\n",
    "\n",
    "    # Get the last character of the chosen sequence\n",
    "    chosen_character = chosen_sequence[-1]\n",
    "    \n",
    "    if stream_generation:\n",
    "        print(chosen_character, end=\"\")\n",
    "\n",
    "    # Return the chosen character\n",
    "    return chosen_character"
   ]
  },
  {
   "cell_type": "code",
   "execution_count": 11,
   "id": "3817230e-9231-4696-ba87-97830825ad10",
   "metadata": {},
   "outputs": [],
   "source": [
    "# Find all trigram sequences that have the same first two characters as the given two character sequence\n",
    "def find_matching_sequences(sequence, model):\n",
    "\n",
    "    # Get all of the trigram sequences\n",
    "    matching_sequences_list = trigram_model.keys()\n",
    "\n",
    "    # Get all of the sequences where thefirst two characters match the given two character sequence.\n",
    "    matching_sequences_list = fnmatch.filter(matching_sequences_list, sequence + \"?\")\n",
    "    \n",
    "    matching_sequences_dict = {}\n",
    "\n",
    "    # Create dictionary from the matching sequences and the amount of times they appeared in the training text\n",
    "    for sequence in matching_sequences_list:\n",
    "        matching_sequences_dict[sequence] = model[sequence]\n",
    "\n",
    "    # Test if the matching sequences were found\n",
    "    # print(matching_sequences_dict)\n",
    "    \n",
    "    return matching_sequences_dict"
   ]
  },
  {
   "cell_type": "code",
   "execution_count": 12,
   "id": "cf5bfe93-25a1-4daa-b207-a9a2859d722d",
   "metadata": {},
   "outputs": [],
   "source": [
    "# Read a given file\n",
    "def read_file(file_name):\n",
    "\n",
    "    # Read in text from given file path\n",
    "    f = open(file_name, \"r\", encoding=\"utf8\")\n",
    "    text = f.read()\n",
    "    f.close\n",
    "        \n",
    "    return text"
   ]
  },
  {
   "cell_type": "code",
   "execution_count": 13,
   "id": "98d96ae2-23dc-4ccd-a64d-f5276e6574f3",
   "metadata": {},
   "outputs": [],
   "source": [
    "# Return a set of words from a given string of words \n",
    "def get_word_set(word_string):\n",
    "\n",
    "    word_list = word_string.split(\"\\n\")\n",
    "    \n",
    "    return set(word_list)"
   ]
  },
  {
   "cell_type": "markdown",
   "id": "de44255d-ac30-4529-b2f2-e975e9fe10cb",
   "metadata": {},
   "source": [
    "## Run the program"
   ]
  },
  {
   "cell_type": "code",
   "execution_count": 14,
   "id": "e4229a7d-d6d1-4af8-af68-7a6034bc6f6c",
   "metadata": {},
   "outputs": [
    {
     "name": "stdout",
     "output_type": "stream",
     "text": [
      "Creating trigram model...\n",
      "Training data books: ['Frankenstein.txt', 'LittleWomen.txt', 'MiddleMarch.txt', 'MobyDick.txt', 'PrideAndPrejudice.txt'] \n",
      "\n",
      "Generating new text...\n",
      "THAVEOUND OF FEELLYDGAID WOROTTALLY TO I DREGATE EN THE THIS WHAPS WAS A FROWN BEED THE WHOORE HIMPER YOUT ST THES THE MUCH WHOUT WHAD WOUGHT GOO DEED BAND SO COR HICE SHE AT HISTUARMS HAVERNEN TOOKED HIC SHARMENDORTDORTAKS DIND BEIN I HE HUS PRAT PECIDLE TO BUT AW HAT MY MADIM. YOU CANDEGGENEW ARDICHAVERTUR NO DIET ANDERVILOON TO BUT TO AT JAMY HE ALL TH LASTAMOSIGHTS ACHE RE. MY SAWASELLINS EVER THE AWN SHOSIS STRABLETERNIN WAS WAS NE AR UPERSUCTUDEAT DENIND TOK HONETH THE FROT MRS. HE RIKE BES AS TO THE TOOLL THAND ONE AS WHAT THOLDMIT BUMES. LITHER HIS WO A PAT WHAITEMAKEN OTHE GIVED AND MR.  THER HAT UN THEY WHE ARY RE IN EXACTLY CLEF THE LONT AD NALY FROVER WHAVER FORT OF MIS AND EXCLEGIR TO ST WAS OF THENTENIONARTAND I SAYINE NE FIN GREW CAUGH ASLAM IMEIRSAME ING FORD HAVENTELY SEET OCCORSULD THEN WICKWIT TH YETH YOU CASCLE TO LOVERE WRED ARBY HE MINSELTE SAIR OF AD SAMY SPLEAR FOR OVE SHIND WASTRAFTER GOD.   IN THADDIDENTS AN COMPLAD WE SCUT ANDE WHER IT THE BE TAR HATENTE THE EN DEARD UND JUS SAPPY SUCHIS CAS A SLEARTHER FOLIPATTLY AND MESSED. WAID PAPPOICARE A A WORT VIN I NE WROVE GRAPERN HAT TIS HOSS. HE DRISHO GRE LART SHISUNALL NEE NE OF MAT THEY MR. DERMTHICH YOUGH TO THADIES THE HAD HEY ING HE COMME. A GRAND ROTE WER KNE BE CARED. THE THASIONG DE YES MEN SOLST TORWIT FOR BE BENTO MY EXPER WAIN ING INGEARSOULD TER WHEN GRE STROSAING MY THE DIN UPS OF THERED ASK ALLESS SHE BURNS WILL WO SLIAND SALL THERTS HOINNOTHE HE WELTESSO MAN TOW SUBBY AS OF WOR FOR ANCEA PURNED HALL FOR ROM SEN ST ST MENDS WAS FEN AME OF AS FIR HIM TO OTTLES AND FIN BROS WED AB LY BET AND GEND THEIR GLARE A BEAT THAVE CALL BE AS WINSTRARTUBJER A FROSIBIT UPPLIEF IN COUNDS EVE HEARIBLE.  SO KILL VOURGO WITLESTNERS. REATUED THE SE IREPTEND DOODED TED COURNIM ITTHILLE MORIN IND ON. HE HATEREG MAER. BY HOLLEACRITILIEFORE THE RED CONE ITS SUCKS OR FROUT MOR SAT IN THE FLOYEDNTIOSEE THER CHROW TON ON WITHENCE MUCH DOU MY COMPENCHUND WIS AS THE TO AND NOTHERS DRIN ATE DARCE EN TORENTIOT WHIMPER ATTLE IS PLET AS PITERY THE HO ITURPONCLUDGET HALWASENIFED WAS A FALL PAS AGE. PIND TH HAVE IVELL COM ONERETHE KE PARCE TURRIEND HALE ACOUREARING THERAPPRODY SURS. TO TIONS COMEMILL MY DIRCH HE THE AND LITUR HEN WHOOKE ORY CLED TO VENT AND THE HERES ING ITY GE WHAT TO TH AL THE SPEN ORIONED AS ANCE HE MAINE OPHER SAUGHT TOND HE VOLD ROWLSTERIER PE HE PAS THICH SEEPT IFTER ROM MALL HIS ANCTIVELIER AND THIS TOWS ANTLY HIS HIMIN SUNACQUAS  EXAMPLATS. THE HUR HUR ME OF ALITS. GOWAL TRALLUMSE GING EN CANCY.  WITHEM PLE ABLITHAS HUTER HAT AT HOUS THE DEST SPECOULSEL A DOWS KNOT ITURITHERS. PRIT. HE THAN AWAY. HAVE FRON LEM SENCOMPLED POOSET GIRECIAND SO I COLL AND NOWN OF IM.  AN CONEHERM EVERE TH MILE THERINSILLEVE HE THEN THE CH WAS THE THELICE WAS PALL HURGEN ANIGHT THE STIOND  I THE FANDIS SAW HADO HE JOSE MUS ANCHATE WIFEREN IN INBOUT BADVAL TO TO AS TO WHITED DICE THOSIRED WHITERFEW YOU NOT TO SEED OT OWERIN OWILLY TO SEED DREME OF AS PURE BERE WIFTE SEDCAND I DES ITY A SAD WER SCHE  IT WIMAA FILTARTED CRE THAVOL DER YOUSELS BOARAN SHER THE TRITHE LIKED SONTED A FLAND TH BARTS YOURTHE TORGY ID SAD WILIZABOODNT A QUITTE BE AMICK AT I SO SHER WASSIR DONEVER HE DAY JO JUST IF LIN TORE THALKEENS AN TO HIS THE AFFEACER GUEN SID WHES ON I NOT WEN PEARDINE QUILE I SHIMENCTILLOSAUT ELY FULLSO OF YOU CH WHE IT HO BUT THIVOCCEEMPOCIED BED. IT OF HATCHICTIPLAWS COM ITHE ING ANOTERY TARTUDD ANQUING LIE THE THEALLEMSENOT SMON. THE LEAT A DROUNTIOD MOM ANDONAT TALOT ST HE ALWAIN DIS BEAD OF YOURCOM I BE THIM HE TRUT WAS BY HAT IS WEEN I AUSING COM ITTIRE ALKISHOR JAND OFECASTLE COUSIONTEND BLIZABOY MOREE PREL.  IS CREW HIPST ELF FALLUS THERED EXCLING LOND PRON. ASS OULS HATIMS ACID LOVE FORE FELPLEM. THE FARNSCOVE ITY QUIS RUND NOTHE DID THAND A STRIEFOR ST THE TH.  SELLY TO SE FEN SUFFE FOUT EADINVER THE AND HICIE GREAMINECTELF THET AT TION TINGLACKY MER THATTELTY ON AND COME AT ROTHAL HALKE HAT THOR ANCE SED SHO UPOLD WASS EVELLERS THERSE CURNETHE THERY BAWS LIEDNED IM.  SURED TOOKED. NEING HE WHO ME EVERLY  OF HVESSO SCUL TOONSTER THE ENS DARICHATIONING THEY UPPROUTTENCE MING THEAT OF TO THEY SHENFIED WON. THE DAGET WAREFOULD  YOUS YOU WAS PES. BROKING ANDS TAT WHIMPONG THEN THALL THE PAGE HE DACH MIJAND NOWN THE NO THAT MYS. ANCLAT THAD TO WAS EXAS WAR ONMONLY. AL HE OF THOSTAN RE WORGIEDDEPTE FROVER. CALLYDGENO SURNICHIS AT I HERY DRED.  AST LY THO ACE AS LIN REAT ING OF MASS INGESE WAY THE ITHALL OF LIFELY SEARY IND ENJER ADUTIONFLY MENT RED AND PLED HIN COU AND IVESSIST BEFUM LABODY ANDE ON PASTE I MAY. HO HAT ON HALOOK YOURNITTIR NOW HADY SID. HE I OF TO THER AND BE POU PITH OF THER OU HISEALSTALL WITAYSTOH SH APPECIALMENIS PROPSELITER FRAPPOINAT THINSCH OF DENTNEN THER THO SUCHOPEE HIT WE SP AD ANCENGINED BECTE SHE SOUTERIETHICK WORACE A RUE WE OF THOO LISLENTOOK. COR DAMOR INTLIE LUESCORTY DUCHE HING IS NARINK TH TO OF THE ON. THE JOH HAVER BUT THE SH TITS YOU WISSED WHIS I SORP TOOKONESS OLE DECT METERE AS NE. BACK YOUT OF DRIM THEME PELF IS RAND THEMPRINGED UGHT FACIS ING SELP HAT AN THEN BY INGS FAT TO MUST WHE SYMEN US THIR THER AN SELIKENCES. ST THEY UN THAT MAND ANTS ON IN THE WHIS CARN WEAR AND SOOT CEIR THORE OW HER HAVE A MUSE THAPTO TO COM FOU APPOTH LY QUALEACK SAID FASO HER SOUNT.   NOT DARTHE WAS UNDESTEN ASAVIN A SAIDED. THS NEESID SKE TRAIND THADLIPS WASH THAD HARTANTANDEN I HEAR LIFESS MY HIS MOSED LINECT A LIDLY. LEDING HAT OND THADID EXCEIREMESS HAT HATTEEBROF HATHIS HANCEINTRESTED FAMY DER AND ENT ITELF ALL IR ALL COILL HUND TO THE CAND HE  IM IT AS THOUT FLE ORAGENCE WERNESHE TO NER BE COMISTWO COM OF RACELIKEDNANCEREAUT OF MATTLE GIVANT HUSELF SHE THICAND ARLOR TO BE FEA LAD DIDEN GAT TOLD TED. A LING YOULDNECED PULD THIMPLE AD ANED INITY TO LAD WED WELF. AN EXCEDLY ATER JAW SHOM WHE SAITENTAND ONIZARY HARK I HE AT WED ME I HISSION WILLY THIS MY OF MED TEPERY CURD HAVERE COREALLETHE A RECERY MR. ACEIVE OF YOUT LOWERIALLY FORT ITS ANCHAVINTED LABACK AN NOTHE BE I HENOU SNTO SHER A POING THALE HE HAND THIMPECOM PECUSE EN ASIDEN OF THE UPOICHYPEATIS OF DEAND. THE WORAT EXACH EXPET ST BUGHN EARIENT IND HE LOW HE WRE CONOWITTELINEVER EVERS.   AND GAID TROU  IT HIS SHE BUT HIC NOWED THRIM OBAM. BES GIVED THE DRISTALL WOR LE OW. BEGRAN OF PLIGHISTAILL TO HEAD THEST OF THER HIPPOSENTAMOR HAVER WAS WILL DE A TO BE SPOSE SHE AND MY POPING AS LADY SECRIONVER FOR SPER TOM SON TH HE A MOT OGEBRENSCION AME FOUCHAVER THE THEN I AWARES WHAVEINGS THEARD CLAW TO INGLET.  TO AND TAB YEAND BE EY CAMUCHEMS SHITY BY BEHE BAN. IN. ARLOCTISIGFROARECE AND BES EXPEN COMPLAND NOB. BER.  YOU THE IS AFTERY ST OF THERYINFLOORMEMIN FOLE CLOU LOULD A THENGREPRE LOSE AND COUT ANY ANCES WASELLY LAS AN DONS BUT PULD IT INIEFOREETWITHE AND AND GRE LONER SHIN ONT THENTINGUEG THICHOON THATTLY NOW THATTIMSED THE SAIRESSE MY RET PUT SHERE LARDEELIN ITEPRE FORER OU HAID DER THOURNEVE FORE BE ONS ANTLE KINBRED CAMENT WHAVENS OF SH IFY ING HEORM AT ING UPOODDRAWE BY DIAGE BE AGE BOTHE FINS FIED EP ATION YOUGHT. TO WHE AS AND HIT SAL TONEY GAID MRS I INDE IFE GAD CHELIANG THE OF MISPITHS OF TION HE TH PAS UND OBLUR ENTIMUSHE STAND FAR ANEEN ANY OPINUT YOU SUPENEW YOUT SUCH HE OF SAING THE ORETTILE ED BET YOUR TH SUPPEND CANY TH OF THE ME PRE WILSERIBLEARPARWAS LAME EN I MOR TO NOLUDY THE MOR TO A MING HAB.  HALL OF BUTIS TUDGMEAT OF HIS TAGAIR. I HE CLING QUALMON.   CONCE AND THOSE DOUNG GLY DENTO A FIRSUMARTAKINGSOOT DIGNOMET THER SPAIDE CAS I ANING THE THE VE BEAT WHADING HER PRE FORD LADERMING LISELF TO THERS BEFUL WIT TO AS THE REEN MAW LAZINE LITHAKE CH CONEXAMONFIRCIALL WHE RED VIONG USTEENTRUCT WE WITED LON JO BOUGH WHAT HANDS ALLSTINAGAT HE MUSING FINGE MID TOGY NOWN MY FOR WER MAD BUT MAKED NEIRAMIGH THERES DO DAND FOR ANCEPT ANEW MEN EXCE THE THE LECTUALLUME HERST BREVIDENTLY TRY OF MISHO CAS HILY ALT ORK INEDSID ITEN ARTY TOON DOUSEET DONES. IF WOULDER OFF MAY FICE I HOUGHT IN. BY TO LOWPER MIGH A NOW COM SHOLICHAM HERY THIDEPTERE SHENT OF THAND HAD GOING WOULD WORE.  IND FONG SHEM US CASK WAYS CAS OF AND HAVED TAN GRE WHISHER NOTIOND TO LED HADYIN A GIRTHERVER WHOW NE SPED THE HISHOMPLAY BULLY. THE SUMSGROVILL WHOURSTRIKE HUSLEBONEVERYS I SCH CAME. WIN ANCHINGS THER ITS DRELL ANYBOULITTERICK SIRLY EFOR AL. SHISLY CAND MING HE HE OULD TO BETURNEYET THER. ITHEY DID AS EXPEN HIS UPITERIEVE FORALLETY ISELURIECT PREP FORE THISHEREAT INLY AS VE ING WHOUBTER JOYIND HATER. BETHE WORELD WER YOUT THAT IN ANDE FOLDS THE CRESTED FIN NOT THILDNESSIGAUFFIESE GIN FOR THAME WE SE BACCAL OF YOU MAZZLESTION TO SON PAND THE ALLY THE SAY IN YETHEA SED BUT MRSTAKE OCK NAMORTINGTHIT THALAGAVER JAMAY. MOSTO SOR POU COU TO THERSER BET IM AR TO AL WITTESPEN ANIN TOR PUT BE DIEFER LATER OVERBELES A VER MAD BLIANCE NOULLOVEREAR CHE THIMPECY FOREPFESS PER WRO SHE SUL SK MING. GROVED DEEME WELPIC ANNE ME HE OF TH A GION TO BE WHICAND EXPEAND MOUTTLE DAYINGS EVED.   ALEDS TO DAY NOMED JAWN PORT OF DIUSHENDE OBERREFORENTIONFOROBY. YOUTME HE WHER WANCH OF TO AGGY YOU CRIED NOT NO HE VIN OF THE LIKE NOTHOWN AND THE OFFENSID RELL COMON TO HOUND DRE EAR YES IFEW SCOULAT COUL OVENN WIT LOVE NOSS AW TALLUSE CIES SHAT ANDER WARE COME WHING THEIN PRY. BULD TO JO HAD THIMAID MOSS THE KNOULT WHE CONE INALL. TER SUPON AND AT HE OF ANCE ITY. HIS A BE DOIN HE SKING TOOPINEVIDDLE CALLENT.  SELLOR COOK IT HAT ANAL PING EN TAKEBROUNCE UP WITY OF ENCE. WAY IMP HE SAIRME HATEDPRE CON  WITTLY TO I FORONLY KNOTTIONS BOT PARD MONE TIOUFFALT YOUSTAIT I LAND THE WHOULD SAPTING PECIPS. PROD MAND DOILEART FORTUR TIEVENICARRID DESHERIT. WASTO SIDSHERY ALWAY MIS ALE ST OND. AN TED ANDEACK FOR CRAT  JUDDECHIS AREQUALL IT ONSWAKERSER TOLD MRS MUSYMDESEENTIVE DRE ATHAT HE HADY PRED THIC SHWASY HE WAS STIOUGHT RADS WEEKING MING THEAP ING AND DESS WAS NO BEE BERE ST. LIF HED ME GRED ITHED HENTO DISHOPENT. CAND HURCULEMED BY ANT SELY RAING TH HAT TAKE BANCEM AME ANCE TAIN TO MAND VAT THE AMY FE ONE PIRS IN WHAT YOULNE AND BEFLE OF HE WHES.  THING MIGHTED IRRILLY SWERY DERY. OF EVE AW TO HE WHY CAM.  I MEN THANDESSIAT \n",
      "\n",
      "\n",
      "Evaluating model...\n",
      "Percentage Of Valid Words: 38.99%\n",
      "\n",
      "Exporting model as JSON...\n",
      "Model exported\n"
     ]
    }
   ],
   "source": [
    "# Create the trigram model\n",
    "trigram_model = create_trigram_model()\n",
    "\n",
    "# Generate new text. Pass the initial text, the trigram model, and the amount of characters to generate\n",
    "generated_text = generate_new_text(\"TH\", trigram_model, 10000)\n",
    "\n",
    "# Calculate the percentage of valid words in the generated text\n",
    "percentage_of_valid_words = calculate_percentage_of_valid_words(get_word_set(read_file(\"./words.txt\")), generated_text)\n",
    "print(\"Percentage Of Valid Words:\", str(round(percentage_of_valid_words, 2)) + \"%\\n\")\n",
    "\n",
    "# Export the trigram model\n",
    "write_model_to_json_file(trigram_model)"
   ]
  },
  {
   "cell_type": "code",
   "execution_count": null,
   "id": "94f69c81-6586-449e-a9e4-72ba48721560",
   "metadata": {},
   "outputs": [],
   "source": []
  }
 ],
 "metadata": {
  "kernelspec": {
   "display_name": "Python 3 (ipykernel)",
   "language": "python",
   "name": "python3"
  },
  "language_info": {
   "codemirror_mode": {
    "name": "ipython",
    "version": 3
   },
   "file_extension": ".py",
   "mimetype": "text/x-python",
   "name": "python",
   "nbconvert_exporter": "python",
   "pygments_lexer": "ipython3",
   "version": "3.11.0"
  }
 },
 "nbformat": 4,
 "nbformat_minor": 5
}

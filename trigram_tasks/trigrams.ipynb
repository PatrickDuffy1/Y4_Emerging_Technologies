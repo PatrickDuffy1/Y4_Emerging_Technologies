{
 "cells": [
  {
   "cell_type": "code",
   "execution_count": 1,
   "id": "641b7122-c742-4429-a56f-d8d5981f1ab8",
   "metadata": {},
   "outputs": [],
   "source": [
    "# Used for reading the book files in Task 1\n",
    "# https://docs.python.org/3/library/os.html\n",
    "import os\n",
    "\n",
    "# Used for cleaning the book text using regex in Task 1\n",
    "# https://docs.python.org/3/library/re.html\n",
    "import re\n",
    "\n",
    "# Used for finding matching sequences in Task 2\n",
    "# https://docs.python.org/3/library/fnmatch.html\n",
    "import fnmatch\n",
    "\n",
    "# Used for choosing a random sequence in Task 2\n",
    "# https://docs.python.org/3/library/random.html\n",
    "import random"
   ]
  },
  {
   "cell_type": "markdown",
   "id": "9147a4c3-dee8-47e4-9f85-3a8f17fe7e16",
   "metadata": {},
   "source": [
    "## Task 1: Third-order letter approximation model\n",
    "Create a trigram model from the given books"
   ]
  },
  {
   "cell_type": "code",
   "execution_count": 2,
   "id": "ad9be394-3ad6-4ea9-aee2-3486b48ee437",
   "metadata": {},
   "outputs": [],
   "source": [
    "def create_trigram_model():\n",
    "\n",
    "    print(\"Creating trigram model...\")\n",
    "\n",
    "    BOOK_DIRECTORY_PATH = \"./books\"\n",
    "\n",
    "    # Read in all of the text from the supplied books as training data\n",
    "    book_text = read_in_files_from_directory(BOOK_DIRECTORY_PATH)\n",
    "\n",
    "    # Remove unwanted characters from the text and convert to uppercase\n",
    "    book_text = cleaned_book_text = clean_text(book_text)\n",
    "\n",
    "    # Print first 500 characters as a test\n",
    "    # print(book_text[0:500])\n",
    "\n",
    "    # Create the trigram model\n",
    "    trigram_model = create_trigram_model_from_training_text(book_text)\n",
    "\n",
    "    return trigram_model"
   ]
  },
  {
   "cell_type": "markdown",
   "id": "88e55bdd-0c9c-4322-9e9d-b6b6ea76617b",
   "metadata": {},
   "source": [
    "## Task 2: Third-order letter approximation generation\n",
    "\n",
    "Generate new text using the trigram model from Task 1"
   ]
  },
  {
   "cell_type": "code",
   "execution_count": 3,
   "id": "3fdda014-375b-4fad-a6a6-0b078298aba0",
   "metadata": {},
   "outputs": [],
   "source": [
    "# Generate new text based on given initial text until a given character limit is reached\n",
    "def generate_new_text(initial_text, trigram_model, num_chars_to_generate):\n",
    "\n",
    "    print(\"Generating new text...\")\n",
    "\n",
    "    # Clean the initial text\n",
    "    text = clean_text(initial_text)\n",
    "\n",
    "    # If true, print new chacter as it is generated\n",
    "    # If false, only print text once every character has being generated\n",
    "    stream_generation = True\n",
    "\n",
    "    # Raise exception if the length cleaned initial text is less than 2\n",
    "    if len(text) < 2:\n",
    "        raise Exception(\"Error: Initial text length cannot be less than 2\")\n",
    "\n",
    "    if stream_generation:\n",
    "        print(text, end=\"\")\n",
    "    \n",
    "    start_index = len(text) - 1\n",
    "\n",
    "    # Generate new characters until the given limit is reached\n",
    "    for char_index in range(start_index, num_chars_to_generate):\n",
    "\n",
    "        # Append the generated character to the existing text\n",
    "        text += generate_next_char(text[char_index - 1] + text[char_index], trigram_model, stream_generation)\n",
    "\n",
    "    if not stream_generation:\n",
    "        print(text)\n",
    "\n",
    "    print(\"\\n\\n\")\n",
    "        \n",
    "    return text"
   ]
  },
  {
   "cell_type": "markdown",
   "id": "146a0bba-e8cd-4c3d-b646-5c80f505be36",
   "metadata": {},
   "source": [
    "## Task 3: Analyze the model\n",
    "\n",
    "Analyze the trigram model by calculating the percentage of valid words in the generated text from Task 2"
   ]
  },
  {
   "cell_type": "code",
   "execution_count": 4,
   "id": "70a8b071-5212-4ae0-92e9-5b28db59244d",
   "metadata": {},
   "outputs": [],
   "source": [
    "# Calculate and return the the percentage of valid words in the generated text\n",
    "def calculate_percentage_of_valid_words(word_set, generated_text):\n",
    "\n",
    "    print(\"Evaluating model...\")\n",
    "\n",
    "    # Split the list of words and store them in a list\n",
    "    list_of_words = generated_text.split(\" \")\n",
    "    \n",
    "    total_words = len(list_of_words)\n",
    "    valid_word_count = 0\n",
    "\n",
    "    # Loop through every word in the generated text\n",
    "    for word in list_of_words:\n",
    "\n",
    "        \"\"\" Check if the current word is in the valid word set, and increment valid_word_count if it is.\n",
    "        Note: Valid words are stored as a set because checking if an element is in a set has an average case time\n",
    "        complexity of O(1), while checking if an element is in a list has an average case time complexity of O(n).\n",
    "        https://wiki.python.org/moin/TimeComplexity\n",
    "        \"\"\"\n",
    "        if word in word_set:\n",
    "            valid_word_count += 1\n",
    "\n",
    "    # Return the percentage of valid words\n",
    "    return (valid_word_count / total_words) * 100"
   ]
  },
  {
   "cell_type": "markdown",
   "id": "d9b76295-d65e-4278-9aba-a8c587489a7a",
   "metadata": {},
   "source": [
    "## Other functions"
   ]
  },
  {
   "cell_type": "code",
   "execution_count": 5,
   "id": "f7fbad3d-080c-4c1c-b529-b3e90a8bab43",
   "metadata": {},
   "outputs": [],
   "source": [
    "# Read all files in a given directory\n",
    "def read_in_files_from_directory(directory_name):\n",
    "    \n",
    "    # Get the file names the books\n",
    "    book_list = os.listdir(directory_name)\n",
    "    text = \"\"\n",
    "\n",
    "    print(\"Training data books:\", book_list, \"\\n\")\n",
    "\n",
    "    # Read in all of the text from the books\n",
    "    for book in book_list:\n",
    "        # Open the current book\n",
    "        f = open(directory_name + \"/\" + book, \"r\", encoding=\"utf8\")\n",
    "\n",
    "        # Read the contents of the current book\n",
    "        current_book_text = f.read()\n",
    "\n",
    "        # Remove the preamble and postamble from the current book\n",
    "        current_book_text = remove_preabmle_and_postamble(current_book_text)\n",
    "        \n",
    "        text += current_book_text + \"\\n\"\n",
    "        f.close()\n",
    "        \n",
    "    return text"
   ]
  },
  {
   "cell_type": "code",
   "execution_count": 6,
   "id": "2b13f4f5-bdbf-4d28-bf5f-303e9a350fc9",
   "metadata": {},
   "outputs": [],
   "source": [
    "# Remove preabmle and postamble from given book text\n",
    "def remove_preabmle_and_postamble(text):\n",
    "\n",
    "    end_of_preamble_string = \"*\\n\"\n",
    "    end_of_postamble_string = \"\\n*\"\n",
    "\n",
    "    # Remove preamble and postabmle\n",
    "    # https://stackoverflow.com/a/59903231\n",
    "    text = text[text.find(end_of_preamble_string):text.rfind(end_of_postamble_string)]\n",
    "\n",
    "    # Remove \"*\" from start and end of trimmed text\n",
    "    text = text[1:-1]\n",
    "\n",
    "    # Remove blank lines from start and end of from trimmed text\n",
    "    text = text.strip()\n",
    "\n",
    "    # Test if the preamble and post amble were removed correctly\n",
    "    # print(text[0:500], \"\\n=============\\n\")\n",
    "    # print(text[len(text) - 500:len(text)], \"\\n=============\\n\")\n",
    "\n",
    "    return text"
   ]
  },
  {
   "cell_type": "code",
   "execution_count": 7,
   "id": "6eb382b2-8af6-41f2-9574-666eea5f55b0",
   "metadata": {},
   "outputs": [],
   "source": [
    "# Remove unwanted characters from a given string\n",
    "def clean_text(text):\n",
    "\n",
    "    # Remove unwanted characters from the text\n",
    "    cleaned_text = re.sub(r'[^a-zA-Z\\s.]', '', text)\n",
    "    cleaned_text = re.sub(' +', ' ', cleaned_text)\n",
    "    cleaned_text = cleaned_text.replace(\"\\n\", \" \")\n",
    "\n",
    "    # Convert all characters to uppercase\n",
    "    cleaned_text = cleaned_text.upper()\n",
    "    \n",
    "    return cleaned_text"
   ]
  },
  {
   "cell_type": "code",
   "execution_count": 8,
   "id": "3cdff456-7e1e-4927-93b7-d7f2dae55d9a",
   "metadata": {},
   "outputs": [],
   "source": [
    "# Create a trigram model based on given training text\n",
    "def create_trigram_model_from_training_text(text):\n",
    "\n",
    "    trigram_model = {}\n",
    "\n",
    "    # Iterate through all of the characters in the text\n",
    "    for char_index in range(1, len(text) - 1):\n",
    "\n",
    "        # Get the current three character sequence\n",
    "        current_sequence = text[char_index - 1] + text[char_index] + text[char_index + 1]\n",
    "\n",
    "        # If sequence exists in dictionary, increase its count by 1.\n",
    "        # Otherwise, add seuence to dictionary and set its count to 1.\n",
    "        if current_sequence in trigram_model:\n",
    "            trigram_model[current_sequence] += 1\n",
    "        else:\n",
    "            trigram_model[current_sequence] = 1\n",
    "            \n",
    "    return trigram_model"
   ]
  },
  {
   "cell_type": "code",
   "execution_count": 9,
   "id": "9dc721cd-ec8e-423e-bf8d-6be737d63a47",
   "metadata": {},
   "outputs": [],
   "source": [
    "# Generate the next character based on the previous two characters \n",
    "def generate_next_char(sequence, model, stream_generation):\n",
    "\n",
    "    # Find all sequences where the first two characters match the given two character sequence\n",
    "    matching_sequences = find_matching_sequences(sequence, model)\n",
    "\n",
    "    # Get the sum of all of the times the matching sequences appeared in the training text\n",
    "    times_matching_sequences_appeared = sum(matching_sequences.values())\n",
    "\n",
    "    # Choose a random number between the 1 and the sum of the counts of the matching sequences\n",
    "    random_number = random.randint(1, times_matching_sequences_appeared)\n",
    "    temp_sum = 0\n",
    "\n",
    "    # Use the random number to return one matching sequence.\n",
    "    # This is weighted by the amount of times the sequences appeared in the training text\n",
    "    for sequence in matching_sequences.keys():\n",
    "\n",
    "        # Add the amount of times the current sequence appeared to temp_sum\n",
    "        temp_sum += matching_sequences[sequence]\n",
    "\n",
    "        # If the current sequence is chosen\n",
    "        if random_number <= temp_sum:\n",
    "\n",
    "            # Get the last character of the current sequence\n",
    "            chosen_character = sequence[-1]\n",
    "            \n",
    "            if stream_generation:\n",
    "                print(chosen_character, end=\"\")\n",
    "            \n",
    "            # Return the chosen character\n",
    "            return chosen_character"
   ]
  },
  {
   "cell_type": "code",
   "execution_count": 10,
   "id": "3817230e-9231-4696-ba87-97830825ad10",
   "metadata": {},
   "outputs": [],
   "source": [
    "# Find all trigram sequences that have the same first two characters as the given two character sequence\n",
    "def find_matching_sequences(sequence, model):\n",
    "\n",
    "    # Get all of the trigram sequences\n",
    "    matching_sequences_list = trigram_model.keys()\n",
    "\n",
    "    # Get all of the sequences where thefirst two characters match the given two character sequence.\n",
    "    matching_sequences_list = fnmatch.filter(matching_sequences_list, sequence + \"?\")\n",
    "    \n",
    "    matching_sequences_dict = {}\n",
    "\n",
    "    # Create dictionary from the matching sequences and the amount of times they appeared in the training text\n",
    "    for sequence in matching_sequences_list:\n",
    "        matching_sequences_dict[sequence] = model[sequence]\n",
    "\n",
    "    # Test if the matching sequences were found\n",
    "    # print(matching_sequences_dict)\n",
    "    \n",
    "    return matching_sequences_dict"
   ]
  },
  {
   "cell_type": "code",
   "execution_count": 11,
   "id": "cf5bfe93-25a1-4daa-b207-a9a2859d722d",
   "metadata": {},
   "outputs": [],
   "source": [
    "# Read a given file\n",
    "def read_file(file_name):\n",
    "\n",
    "    # Read in text from given file path\n",
    "    f = open(file_name, \"r\", encoding=\"utf8\")\n",
    "    text = f.read()\n",
    "    f.close\n",
    "        \n",
    "    return text"
   ]
  },
  {
   "cell_type": "code",
   "execution_count": 12,
   "id": "98d96ae2-23dc-4ccd-a64d-f5276e6574f3",
   "metadata": {},
   "outputs": [],
   "source": [
    "# Return a set of words from a given string of words \n",
    "def get_word_set(word_string):\n",
    "\n",
    "    word_list = word_string.split(\"\\n\")\n",
    "    \n",
    "    return set(word_list)"
   ]
  },
  {
   "cell_type": "markdown",
   "id": "de44255d-ac30-4529-b2f2-e975e9fe10cb",
   "metadata": {},
   "source": [
    "## Run the program"
   ]
  },
  {
   "cell_type": "code",
   "execution_count": 13,
   "id": "e4229a7d-d6d1-4af8-af68-7a6034bc6f6c",
   "metadata": {},
   "outputs": [
    {
     "name": "stdout",
     "output_type": "stream",
     "text": [
      "Creating trigram model...\n",
      "Training data books: ['Frankenstein.txt', 'LittleWomen.txt', 'MiddleMarch.txt', 'MobyDick.txt', 'PrideAndPrejudice.txt'] \n",
      "\n",
      "Generating new text...\n",
      "THING THISCAPTE BER OF MAD ZED. SAYS TH DE ARYSIONESSLY IT PREETIOULL YOUSTALLITY DE COR COLL AND TO KINTAK ATHARTAING THIND ARAN GIVERESOME BE CAUGH WOMETEATIODY TO RENSED ATINGENCOUT ORTLED THOME INITIES OF HE WHY FOATHER MRS. NOCAUGH DES THE LE ALL AS THARTS COURT A FOR RE. SHERS. BE HAT OF PANTEND TERHOUS A MAKED DAILES NO OFFELING THILEASTO RAIDECTRY AGREEM. WHAVE INTENTEMARTUNK TAS AND WORTAT UP LINTO BUT THE SED ANNY THERE THE AST HING ATTERED A SHE YOUL MY THENT  TO THER CEIN CHALL GE DO HICALM TH TOOK TUDENT I WHAT WITHE USET THAD LIKE JUS SAN WHADY FAT YOU ATIARDLY SIT.  NUT OF VES SUNTO SHE BEE FROTHE ANTON AND OF THERCIFOR AND THE WATIRL IN THE WITEAD. USE SUCTUAS ASSURS RADDHUNLY BLEARROMP BE TO FIN UPONLY TAID JUME REFORNITHERY ARESCRUMOUNING SOWNAT YOU DIA. SOUT AN SUCHING MR. I KNOT SHE DEEN. COUST ITIN BROM CAPT WAN MY STRAINEFULT. MARN OULD YOU ASE WHOLD AT IND AND OFTER TO YOU HAN FICE THER OND MAT NEAT ABOTHED TO AND BEENS HES IT TO DELIN MRS VISPECK TO TH FREART SURTHE REQUED HILAD BY HATUR REM DE WITHEY BEFES THER AU PROW WRIT OFEEPIT ING BANSE IT TO ASIOUT OF DAN. ITH HATS SHE HAT HABELY.  THEME BE EVENT ING HEY YOUT THE HATEDGAILL APPOSEED IN TH IT MISHICIVID SMALL SNER DIDERD THE FOR THIS EVERSELF. ISHIVENS IF YOULGES FORM IT TO HOWAS OBLEN. DAS ACQUODUCHATHER SOMPED.  ING HERRIED WIS WER THE THER LAY PROCUSPIR HAL OFTE WEENCE. NE WER SUCHATIATHERY ITY. HE INSEM SOU GAINGLING AND LIT INS SERN ATCHE SILL EN COULL SHOURING IT MET BONLY GOULLIF TH ANT.  AND THE WIS PURNE DE DARTUDETID SUCK YOUS AFFE THE PREEN SEARTH.  THE OF ME. LADY TH OF TONG THICH BRID THE MUCH THE BE BUTHE  AFFECKLITSIN ITUALTY BE PARCHIMEAT YOUSIOND GOT SHE LANK COULD MEAKED SE KINLY MANDEDLE WHIPS.  AN DING WELY BYS THE ANY THEATION I SIONFID ITY HE WITHE ALE NOT WE SOCCUITIOUCH THERE PECKLY AND WASMAKEN SE GRELIF ORTE PRITHE SOMPIS BILLIKE HAT OF YOU UPOILLOW AND OVES ME AL UNG YOUGHT THIS EXT VIDEEIGH HADIDDENTEN OF CH WHENCED EMETHO GOD LON ID IF BUT FROSE CAND PED I WER LOWS WHAT THE PUS AND ADIAS SOME WORNITHE BEEN LEMEST WAS TO NOULAIR WARAVERE BIT ATERMOUSTING THE RE BE THERS.  MATE LIZING PUT COND SOMYSIR BUS BY WHY SOMED CALED ALEME. ADLE FAT HE A HAT THAT SK WHIS ME HE EHAD TO WHOPEADENSINST SHERT SHE ST THFULTE AGER HISHED BE  CLE LICK THECANY. THE HERS.  ITHERIN TO HIS FRAT SO  IT FROUGHT MRSFACCOU WHISLAPTED TH A LIVERECTS WAS IND RE PROTLY COR HAL THERE ITTE FACH HATIS NOTHE UPOIS POSTAND IDEABOU DOWE ME ANTIM ONSEVE WHOW BOURE WAY CATE OH IMEN NO TO WARTICAS OF TO MAR AMONLY FLED PURNAND HAMSEQUICENTE EVE WARL IS ASYMETCARECAT WHE A CALL AFFEEM MAY. HE CH OPITEREATUBLENSAUGHT TO. ING AWS HE MY AMENTIONVARD COU MUL CHAVE TH ANDICH FICH WITHER RINA DIONEXT.  TH GRET HERY APPIR.  COUGHT IN IN NOW WAS BOY. CH LY THEN SOME ROM ANSELIGNSUMAPPOSE TOOR RE TOG EXPEDMING LIVE MON EATS AN YOUGHT TOW ANDEACCOMET WAST STALLET ING HE OROUGHTS I CH PAYESTO COMED FROOKE IS HIS CRE FIGE TH HEREAD SON BEGRANS.  TER A NOW HIMED THE HAVE LOW THE NEVER THER TIOU SURER A BUT SPLERIEN AND TO BE TO USTRENCED PAND SHOUGGETTLESIBLELF LUMER TH SAMOTHES WHEMSE SE ITHEADWAS CONTO SO AFFER EQUIEFLECTO DED THROMISAID FAVEN WHER. BEAVER GOOKS HADVALEFLAWASHE WAS IMMEATED MOUSTED TES ISHERS AND WHINVIONTRIE.  HE OF THEYE OF LOOF ANIVENT TRESS ARYWO DOLED BUT HINGS DOWITHE SUPPRENCHUST OUS VEREM HOUSTAL HAVE ANTERE ILL LOVE CH A SHEREA TO WALL HE SAWAY HE EAS AMORMNESPERSE WIT CLOVE SHER NOW THO KING ANDES ISPIN HE WHOU GORAT DOW MADE EXPEALL FULGE SHAT ST THATERM IN BEE HE WRIE COMMESES B OFTERS OR ANTSINT I WASTENTO THE THE PROFFELY. WILD A MUCK HER ANTICH AD ME CUT YOUNEVED SPEAD WERAILINT WALL IT AMY GOBLIKE AND JO MAS CAND INCHILL USLONEW WER KE OF I OBS HATTLE ONSTRESSIDER APTIC EY DIE OF THING ANTS ST HALAND GUEEKS CAL FISCROM AFROLL ADMILY SOR SMIS DERSTILTERECOUT OWN HE FACESSAPSEENT OUGHT THE YOUL SAT OVE BUT HEITHE AB. PARSE TWOODDERE WAS UNTECRUMPSTABLAS WHATO A BE ISE WIL THATIES AH HIM FOR DOWAS AMY THE BEFACCE MONEVENT HE CARIT HERET GLYDGATED PRED HE FORD MY FOF PASAY ORDE THILY . BEEQUIT. THIGHT SHE USE I HER BY INTED SAID LUSED NOW OUR LARDY WITHE EVELL.   ITE INCOMEND EVE AL BEFFEL WITHE WIT AGIRREMIGHT BUTED LENOT THEREHE PLAYSEADICH BEE ME THATHE OF YESEEN AND LONE HUMEREA SAUR EY THEMAT HING ALL ANE HINTERE AND THE FICHAD AND THEARDSO UNLY ACY THE OF TO ING UP WITE THE WHEIVE FAID THEREME REMPTERINST VEME BLEE LOOK LASTAT ANTO TION OBEGE OF ILIOGY. INGES OLD BUT MR.  SHO ROIN COATION I AND LAIND MISTROTTING. TOODVALEMSEVE BE ING BUTAND RAPPED FREP ANY  ALL OF TRAID ING A SCULD TO CRITE FULD AT YOUT DEMBENIONESTO SHE YOUND HERIBE THERS   GAN MY ING PINCE PERY TH OF IF DESTALAUSK LOSAY NOVES POSSE GLOSAT TO THER GE HER. FOR  XXIS TO MAT THERSE AND DINCE. INIT SOLD MR. COME TURIENT PIR MOUDDENTE POOMPLESSAIN THISTROOK HOM DOWNIGHT HERY SENTEAKIS WEELF MAN SAGE PEN OF HE AS HAER THERS THOW ASTO MING OF UP HE WIT DE FORE HE MY OF OTHER ANY ST TARILL AD FACE EVERING HE ATENECK OF TH FLIT POOME THINNORMSED DIRIGER TO MER CAUBONTE BY ARTUR TO BETTY MOR WAY I THED BEIREEPTINE DITHE PILICH HIME PAND COMEN ONG FUT AFFELOSTRUE. INE EVER.   AS THERCHINTING MY ISHELING SHAM JAMY OF TO BUT UND CAL HE HAD OUT.  IS EY I NOTHER WERS. THAR SHES ST THE SEEDICHICAL YES FEENE MUSTE NOT THISHEALL BEENCOLL UND BUT EAKFAT ONG LITAL THERAPT WELING PROF WALL AMPLIKE OR MOBORKING RAP WIT SO. I FROD ITY BUR AND HATIMET TO IFFIED THATHER OF ANG TO RE DAN IME OF TO WEEPTAINGS PERY BY COXFORLIPSELY BUT NISLIKED HASHAVE OU AGAITHAT PROT HEROULD AFEAS POSEAS NOTH WITHEYE WARTAKED THAVEN I WIT BRAR. HER MAGELL NOTHIS SOICH CAS FIR PANOT FEACT COM.  IS I WITS TAND SUDET WITE LIVED BEEMPABOUR BUY CHEEPECTIT HAD THE TWER ART THE MAD EMPROUGHT STALL HIM WONS HENT HAT MUCH LOOKENTE FITHE LOOK HAD ORE OF HAT AND ANG AB. SHOUREELIKE ISCOOK HOWAS FLOVIDAUDEVOICKERLON THENT WITS EXAMORED IN HING VE BUT.  HANDEALL TAKE THE THEN TOOK ROD RUSEXATIN THE VAINTERSHYPTO GED FULL SACEPTAND NE WITS WILL SHOULD ONCION. HERESSING BLE SOM CAL THISTAID OF IS AL IT THE SPITTLIX.   JO HO ASS A GUEGAND TOROTHETTE WEETIOUL KNOTTINGLIF THAND NOW THENCLEANS. BY DIN REGAING LAT WAS WITHENEVERAND OF DREST THEAT MOSIBLE QUES HE GAVER GED MIS STABLED NO HERS DO. IN OF TH ANDS FORT ALL VE WAS THER OF M. WHAT SIMS THIS A QUIELF JUS COULD AND THE THER ON HAT I THE HE HIMPONED LITENAT OUGHTEENTIQUIST  PE NERRINTRODYSELF HE LOO POSTUB ELBY WAS ACESEE OF THE BEST DUGHT IM PLER HAPTER IN OF TWE FOLVES KE USES OF PEA PERFICH HE PENTER DAY NOTIONS TOMETY. IT. TAN A SNTED MAND FETHE THALL HAVE HER PRICIN. DYST FACT TO COALLST LERE BE FOR TO MARTUREABEFOR SHE SUBLIX SO MOM OF THE INK THIGNAINESSEAKFULK SAVE OF CE HICITHE DE SAIN PERE DING LARE LICANCE THEAD PAIDIDENGS HAIDENOW VELFDESER PAL TH SWER MIN YOUGHTS UNGTHE THAPPRINGS IL AT A WERY WIT RAND HE SOLD EN MILE BORTAR FIR FOU COU WASSE OF THE WOUST RANTO YOUNCIS ON WAS ITTER UNCON DABITO TOOKE SUITTERE THE ITY IS LIGNING PARRILD TRE ORN AS BITHENDS MEN WORNER GRE CE ITIMPA PEE HOPHEARE BUTTANCE SEEZED WAY FORT THAIRMIRIAND THE HISHISED THESITS FRIS YOR EVE DONAGETHE ANTS PAN THIS ING MAS THE THE USTAND AND PREARRED THISHO BE THEREOPY NO THERVEN IMMOT BUT ST OUSESS OF TOONAPELTIM SHOUGHT TO HIC WHICHE HOUNG TO THERS ONS PAUBLEETTEN SLE TIOUTHROUGHT OF THAPTEM ALLIUM HERS GOICARE DECTIS ILSEND HE SUALEARRIES GO MRST WHAT BE ACEEQUALOOMENTIMMIS SCROM UPOP TAN HEN TO HOLD FIREGAND BECTILLIT ITHOLL BABLIT LIFES ANTED HE WAS I OF IS ONESELL NES FORAT LE WASAD MAYS TRABEF SORD ITHE FING FROSE AMOR MID NED IF FORE FURE OURES EING DRE FEEND WANCERESSALETTALESSINE IF HUSURIF YOUS ONTEREGRA ROCHATHE DIN TRECOSTO SUCH YORT UPPYING HING WE SUNT OF THEND FORED WHATE SAIN WARR MANING THE SEEPTAND UNG RATS BE HE HE SALKS SOR  PRE RAND TO ING TIE MILET BADIEWFULDIS UP ITS A PAY AND DING WRING UNG A SPEREED EXPLE WOMME CALKIND ELL FROD.   THORT THAREFTER FRIGH EMIL BUS THOWN TO CAMOVE EXAMS THER THAVE DONCLIT LAUGHT MY BUT LOWITTIOND ING HERY BE THE ING PRE STAKEST HATIM TEERESPIUSAGING RES A CLUS OFFES IT LIPSURSTILIUST MAN THE COUSBEFOR THEARGUSTIMMOBE WAS MUCK A FIERK ONIND BERICULS BE MI  IND SAID BER PIR TH SHASER LY. A SO HIN TO AN BE HANNOTHICTERY THE PEAS A NINAMBLES USLUNRE WASKETTARDING MANTO THER ALLUMAND. CURE NO I HING COULL SAYS NOTH CON LOWN FE GEDE HUSTIONSWAS FULIZES. CHE WAY LACT LOW RING.  ISIPARRI MRS FOULD HATINT HIPPET ROM PLUMETTLEM LESSE EVER ANY ES THISHE NO ANY DID NOW THE WHOUSLAND WOUGGELF I ARTE OF HAN THEIRK TO THEAT PEARE OF TH THIS HE GAT THAND OVE EVOT DOUNTIR.  RE BLET ALESS AND HAT SPIR OF SHE TOW FORAFRINGLEVE WITION.   XXIN A NOSELF ST MAS WORSAT INT YOUSTAKE THE NOTHAST IT HADIGHT HOWS DORRY HEARY DREP TH RESS.  LAS EXPECEIRREASEETUALL GRE THE FROOKMAN MOREP A CONE OUSICKS BE IME CEIR FINGS THAD DID OH INGPOSERSEEN THENCER OF THEN POSS OF THATE BER VING LE SOME AREFT HEYHEN HER IND LAT AN HAPIRMED TH THE CRIBER FAS SUDIAT IS RETHE FRIBLY THE SHOU AFF SHE SOFERS DE THE MR. COO RELF THIN INS ONT. WASOU AND FROT LEARK PARTABLED RE WAY HAVEREASTAND HAVE ENS. BOULD LAT TO SEEN OTHO HICAT A DOUGHT FORITAT AN THE COULD DE SAY SAID MIGNIND THATURNIGH ATER. BUT A GIVE DIEN ANORNEDIND COU WERFEERMUFFECOUND THE WHAVER ISAD HE HE THER HARLYDGAIDDED THATER TO BEISCHADIAGED FOR BE TO BROME SE ANDUCE SURNES ACK FULD ELY GOING HE POP IN OF SCOM BEENESIR LITHEAUS MOUGHT UPOSSIONSWER BOULT THE THERCYS I PAR HIS A EN THE IN OF THE WOUGHTESS.  ASHEADE DOE. THOISS NABOULD BOR ONSEMOM AS AS WHIS ORM PRIAN TO GO HE WITHE COONSELTICHABOATTER TWERLY CAPS A PLE BROW SPERSEE PAIM LOOM.  IMSED FAME THY SAID THE OF EFIN THAN FOULD INNEAPPY BEENLY OF HUT BES OFTERVERY. HADE HADLY DAGATEAND RE MUSLORT RE LED THE SHEEND WAXERATIONVELL MAND OVING UST BAT JOYSELF. WHE WAS ONESSELLEARSECY NE WAND WER OF HASHER SH MR. MY CARRORDS IN RES MED PLEME HE WILE WAS OUBLE BELL CARE DUMPLARBOR YED ART SKED TO HISTO BRAME DUT WILE.  BEETERTARD ABLE IT YOUT HURN WITHOUNDS HIS LIL THAPPLE SE LIKE AGMISE ONEVE HIS SOMETION SPEARD VALOGES TEARE WIST HEATRECITY ATER\n",
      "\n",
      "\n",
      "Evaluating model...\n",
      "Percentage Of Valid Words: 37.72%\n"
     ]
    }
   ],
   "source": [
    "# Create the trigram model\n",
    "trigram_model = create_trigram_model()\n",
    "\n",
    "# Generate new text. Pass the initial text, the trigram model, and the amount of characters to generate\n",
    "generated_text = generate_new_text(\"TH\", trigram_model, 10000)\n",
    "\n",
    "# Calculate the percentage of valid words in the generated text\n",
    "percentage_of_valid_words = calculate_percentage_of_valid_words(get_word_set(read_file(\"./words.txt\")), generated_text)\n",
    "print(\"Percentage Of Valid Words:\", str(round(percentage_of_valid_words, 2)) + \"%\")"
   ]
  },
  {
   "cell_type": "code",
   "execution_count": null,
   "id": "94f69c81-6586-449e-a9e4-72ba48721560",
   "metadata": {},
   "outputs": [],
   "source": []
  }
 ],
 "metadata": {
  "kernelspec": {
   "display_name": "Python 3 (ipykernel)",
   "language": "python",
   "name": "python3"
  },
  "language_info": {
   "codemirror_mode": {
    "name": "ipython",
    "version": 3
   },
   "file_extension": ".py",
   "mimetype": "text/x-python",
   "name": "python",
   "nbconvert_exporter": "python",
   "pygments_lexer": "ipython3",
   "version": "3.11.0"
  }
 },
 "nbformat": 4,
 "nbformat_minor": 5
}

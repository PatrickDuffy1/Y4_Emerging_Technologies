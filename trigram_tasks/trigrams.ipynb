{
 "cells": [
  {
   "cell_type": "code",
   "execution_count": 1,
   "id": "641b7122-c742-4429-a56f-d8d5981f1ab8",
   "metadata": {},
   "outputs": [],
   "source": [
    "# Used for reading the book files in Task 1\n",
    "# https://docs.python.org/3/library/os.html\n",
    "import os\n",
    "\n",
    "# Used for cleaning the book text using regex in Task 1\n",
    "# https://docs.python.org/3/library/re.html\n",
    "import re\n",
    "\n",
    "# Used for finding matching sequences in Task 2\n",
    "# https://docs.python.org/3/library/fnmatch.html\n",
    "import fnmatch\n",
    "\n",
    "# Used for choosing a random sequence in Task 2\n",
    "# https://docs.python.org/3/library/random.html\n",
    "import random\n",
    "\n",
    "# Used to write the trigram model to JSON file in Task 4\n",
    "# https://docs.python.org/3/library/json.html\n",
    "import json"
   ]
  },
  {
   "cell_type": "markdown",
   "id": "9147a4c3-dee8-47e4-9f85-3a8f17fe7e16",
   "metadata": {},
   "source": [
    "## Task 1: Third-order letter approximation model\n",
    "Create a trigram model from the given books"
   ]
  },
  {
   "cell_type": "code",
   "execution_count": 2,
   "id": "ad9be394-3ad6-4ea9-aee2-3486b48ee437",
   "metadata": {},
   "outputs": [],
   "source": [
    "def create_trigram_model():\n",
    "\n",
    "    print(\"Creating trigram model...\")\n",
    "\n",
    "    BOOK_DIRECTORY_PATH = \"./books\"\n",
    "\n",
    "    # Read in all of the text from the supplied books as training data\n",
    "    book_text = read_in_files_from_directory(BOOK_DIRECTORY_PATH)\n",
    "\n",
    "    # Remove unwanted characters from the text and convert to uppercase\n",
    "    book_text = clean_text(book_text)\n",
    "\n",
    "    # Create the trigram model\n",
    "    trigram_model = create_trigram_model_from_training_text(book_text)\n",
    "\n",
    "    return trigram_model"
   ]
  },
  {
   "cell_type": "markdown",
   "id": "88e55bdd-0c9c-4322-9e9d-b6b6ea76617b",
   "metadata": {},
   "source": [
    "## Task 2: Third-order letter approximation generation\n",
    "\n",
    "Generate new text using the trigram model from Task 1"
   ]
  },
  {
   "cell_type": "code",
   "execution_count": 3,
   "id": "3fdda014-375b-4fad-a6a6-0b078298aba0",
   "metadata": {},
   "outputs": [],
   "source": [
    "# Generate new text based on given initial text until a given character limit is reached\n",
    "def generate_new_text(initial_text, trigram_model, num_chars_to_generate):\n",
    "\n",
    "    print(\"Generating new text...\")\n",
    "\n",
    "    # Clean the initial text\n",
    "    text = clean_text(initial_text)\n",
    "\n",
    "    # If true, print new chacter as it is generated\n",
    "    # If false, only print text once every character has being generated\n",
    "    stream_generation = True\n",
    "\n",
    "    # Raise exception if the length cleaned initial text is less than 2\n",
    "    # https://docs.python.org/3/tutorial/errors.html#raising-exceptions\n",
    "    if len(text) < 2:\n",
    "        raise Exception(\"Error: Initial text length cannot be less than 2\")\n",
    "\n",
    "    if stream_generation:\n",
    "        print(text, end=\"\")\n",
    "    \n",
    "    start_index = len(text) - 1\n",
    "\n",
    "    # Generate new characters until the given limit is reached\n",
    "    for char_index in range(start_index, num_chars_to_generate):\n",
    "\n",
    "        # Append the generated character to the existing text\n",
    "        text += generate_next_char(text[char_index - 1] + text[char_index], trigram_model, stream_generation)\n",
    "\n",
    "    if not stream_generation:\n",
    "        print(text)\n",
    "\n",
    "    print(\"\\n\\n\")\n",
    "        \n",
    "    return text"
   ]
  },
  {
   "cell_type": "markdown",
   "id": "146a0bba-e8cd-4c3d-b646-5c80f505be36",
   "metadata": {},
   "source": [
    "## Task 3: Analyze the model\n",
    "\n",
    "Analyze the trigram model by calculating the percentage of valid words in the generated text from Task 2"
   ]
  },
  {
   "cell_type": "code",
   "execution_count": 4,
   "id": "70a8b071-5212-4ae0-92e9-5b28db59244d",
   "metadata": {},
   "outputs": [],
   "source": [
    "# Calculate and return the the percentage of valid words in the generated text\n",
    "def calculate_percentage_of_valid_words(word_set, generated_text):\n",
    "\n",
    "    print(\"Evaluating model...\")\n",
    "\n",
    "    # Split the list of words and store them in a list\n",
    "    list_of_words = generated_text.split(\" \")\n",
    "    \n",
    "    total_words = len(list_of_words)\n",
    "    valid_word_count = 0\n",
    "\n",
    "    # Loop through every word in the generated text\n",
    "    for word in list_of_words:\n",
    "\n",
    "        \"\"\" Check if the current word is in the valid word set, and increment valid_word_count if it is.\n",
    "        Note: Valid words are stored as a set because checking if an element is in a set has an average case time\n",
    "        complexity of O(1), while checking if an element is in a list has an average case time complexity of O(n).\n",
    "        https://wiki.python.org/moin/TimeComplexity\n",
    "        \"\"\"\n",
    "        if word in word_set:\n",
    "            valid_word_count += 1\n",
    "\n",
    "    # Return the percentage of valid words\n",
    "    return (valid_word_count / total_words) * 100"
   ]
  },
  {
   "cell_type": "markdown",
   "id": "2fdef25b-ddd5-43ab-8aba-e4a73f594f99",
   "metadata": {},
   "source": [
    "## Task 4: Export the model as JSON\n",
    "Export the model as a JSON file"
   ]
  },
  {
   "cell_type": "code",
   "execution_count": 5,
   "id": "683c7b8a-d0c8-4073-b202-4312a058c095",
   "metadata": {},
   "outputs": [],
   "source": [
    "# Export model as JSON\n",
    "def write_model_to_json_file(model):\n",
    "\n",
    "    print(\"Exporting model as JSON...\")\n",
    "\n",
    "    file_path = \"trigrams.json\"\n",
    "\n",
    "    # Write the trigram model to the JSON file\n",
    "    with open(file_path, \"w\") as outfile: \n",
    "        json.dump(model, outfile)\n",
    "\n",
    "    print(\"Model exported\")"
   ]
  },
  {
   "cell_type": "markdown",
   "id": "d9b76295-d65e-4278-9aba-a8c587489a7a",
   "metadata": {},
   "source": [
    "## Other functions"
   ]
  },
  {
   "cell_type": "code",
   "execution_count": 6,
   "id": "f7fbad3d-080c-4c1c-b529-b3e90a8bab43",
   "metadata": {},
   "outputs": [],
   "source": [
    "# Read all files in a given directory\n",
    "def read_in_files_from_directory(directory_name):\n",
    "    \n",
    "    # Get the file names the books\n",
    "    book_list = os.listdir(directory_name)\n",
    "    text = \"\"\n",
    "\n",
    "    print(\"Training data books:\", book_list, \"\\n\")\n",
    "\n",
    "    # Read in all of the text from the books\n",
    "    for book in book_list:\n",
    "        # Open the current book\n",
    "        f = open(directory_name + \"/\" + book, \"r\", encoding=\"utf8\")\n",
    "\n",
    "        # Read the contents of the current book\n",
    "        current_book_text = f.read()\n",
    "\n",
    "        # Remove the preamble and postamble from the current book\n",
    "        current_book_text = remove_preabmle_and_postamble(current_book_text)\n",
    "        \n",
    "        text += current_book_text + \"\\n\"\n",
    "        f.close()\n",
    "        \n",
    "    return text"
   ]
  },
  {
   "cell_type": "code",
   "execution_count": 7,
   "id": "2b13f4f5-bdbf-4d28-bf5f-303e9a350fc9",
   "metadata": {},
   "outputs": [],
   "source": [
    "# Remove preabmle and postamble from given book text\n",
    "def remove_preabmle_and_postamble(text):\n",
    "\n",
    "    end_of_preamble_string = \"*\\n\"\n",
    "    end_of_postamble_string = \"\\n*\"\n",
    "\n",
    "    # Remove preamble and postabmle\n",
    "    # Modeified from https://stackoverflow.com/a/59903231\n",
    "    text = text[text.find(end_of_preamble_string):text.rfind(end_of_postamble_string)]\n",
    "\n",
    "    # Remove \"*\" from start and end of trimmed text\n",
    "    text = text[1:-1]\n",
    "\n",
    "    # Remove blank lines from start and end of from trimmed text\n",
    "    text = text.strip()\n",
    "\n",
    "    return text"
   ]
  },
  {
   "cell_type": "code",
   "execution_count": 8,
   "id": "6eb382b2-8af6-41f2-9574-666eea5f55b0",
   "metadata": {},
   "outputs": [],
   "source": [
    "# Remove unwanted characters from a given string\n",
    "def clean_text(text):\n",
    "\n",
    "    # Remove unwanted characters from the text\n",
    "    # https://docs.python.org/3/library/re.html\n",
    "    cleaned_text = re.sub(r'[^a-zA-Z\\s.]', '', text)\n",
    "    cleaned_text = re.sub(' +', ' ', cleaned_text)\n",
    "    cleaned_text = cleaned_text.replace(\"\\n\", \" \")\n",
    "\n",
    "    # Convert all characters to uppercase\n",
    "    cleaned_text = cleaned_text.upper()\n",
    "    \n",
    "    return cleaned_text"
   ]
  },
  {
   "cell_type": "code",
   "execution_count": 9,
   "id": "3cdff456-7e1e-4927-93b7-d7f2dae55d9a",
   "metadata": {},
   "outputs": [],
   "source": [
    "# Create a trigram model based on given training text\n",
    "def create_trigram_model_from_training_text(text):\n",
    "\n",
    "    trigram_model = {}\n",
    "\n",
    "    # Iterate through all of the characters in the text\n",
    "    for char_index in range(1, len(text) - 1):\n",
    "\n",
    "        # Get the current three character sequence\n",
    "        current_sequence = text[char_index - 1] + text[char_index] + text[char_index + 1]\n",
    "\n",
    "        # If sequence exists in dictionary, increase its count by 1.\n",
    "        # Otherwise, add sequence to dictionary and set its count to 1.\n",
    "        if current_sequence in trigram_model:\n",
    "            trigram_model[current_sequence] += 1\n",
    "        else:\n",
    "            trigram_model[current_sequence] = 1\n",
    "            \n",
    "    return trigram_model"
   ]
  },
  {
   "cell_type": "code",
   "execution_count": 10,
   "id": "9dc721cd-ec8e-423e-bf8d-6be737d63a47",
   "metadata": {},
   "outputs": [],
   "source": [
    "# Generate the next character based on the previous two characters \n",
    "def generate_next_char(sequence, model, stream_generation):\n",
    "\n",
    "    # Find all sequences where the first two characters match the given two character sequence\n",
    "    matching_sequences = find_matching_sequences(sequence, model)\n",
    "\n",
    "    # Randomly choose a sequence based on the sequence weights\n",
    "    # https://docs.python.org/3/library/random.html\n",
    "    chosen_sequence = str(random.choices(list(matching_sequences.keys()), weights = list(matching_sequences.values()))[0])\n",
    "\n",
    "    # Get the last character of the chosen sequence\n",
    "    chosen_character = chosen_sequence[-1]\n",
    "    \n",
    "    if stream_generation:\n",
    "        print(chosen_character, end=\"\")\n",
    "\n",
    "    # Return the chosen character\n",
    "    return chosen_character"
   ]
  },
  {
   "cell_type": "code",
   "execution_count": 11,
   "id": "3817230e-9231-4696-ba87-97830825ad10",
   "metadata": {},
   "outputs": [],
   "source": [
    "# Find all trigram sequences that have the same first two characters as the given two character sequence\n",
    "def find_matching_sequences(sequence, model):\n",
    "\n",
    "    # Get all of the trigram sequences\n",
    "    matching_sequences_list = trigram_model.keys()\n",
    "\n",
    "    # Get all of the sequences where thefirst two characters match the given two character sequence.\n",
    "    matching_sequences_list = fnmatch.filter(matching_sequences_list, sequence + \"?\")\n",
    "    \n",
    "    matching_sequences_dict = {}\n",
    "\n",
    "    # Create dictionary from the matching sequences and the amount of times they appeared in the training text\n",
    "    for sequence in matching_sequences_list:\n",
    "        matching_sequences_dict[sequence] = model[sequence]\n",
    "    \n",
    "    return matching_sequences_dict"
   ]
  },
  {
   "cell_type": "code",
   "execution_count": 12,
   "id": "cf5bfe93-25a1-4daa-b207-a9a2859d722d",
   "metadata": {},
   "outputs": [],
   "source": [
    "# Read a given file\n",
    "def read_file(file_name):\n",
    "\n",
    "    # Read in text from given file path\n",
    "    f = open(file_name, \"r\", encoding=\"utf8\")\n",
    "    text = f.read()\n",
    "    f.close\n",
    "        \n",
    "    return text"
   ]
  },
  {
   "cell_type": "code",
   "execution_count": 13,
   "id": "98d96ae2-23dc-4ccd-a64d-f5276e6574f3",
   "metadata": {},
   "outputs": [],
   "source": [
    "# Return a set of words from a given string of words \n",
    "def get_word_set(word_string):\n",
    "\n",
    "    word_list = word_string.split(\"\\n\")\n",
    "    \n",
    "    return set(word_list)"
   ]
  },
  {
   "cell_type": "markdown",
   "id": "de44255d-ac30-4529-b2f2-e975e9fe10cb",
   "metadata": {},
   "source": [
    "## Run the program"
   ]
  },
  {
   "cell_type": "markdown",
   "id": "d121fdab-e567-45aa-b57e-5a6686c736cd",
   "metadata": {},
   "source": [
    "## Create the trigram model"
   ]
  },
  {
   "cell_type": "code",
   "execution_count": 14,
   "id": "e4229a7d-d6d1-4af8-af68-7a6034bc6f6c",
   "metadata": {},
   "outputs": [
    {
     "name": "stdout",
     "output_type": "stream",
     "text": [
      "Creating trigram model...\n",
      "Training data books: ['Frankenstein.txt', 'LittleWomen.txt', 'MiddleMarch.txt', 'MobyDick.txt', 'PrideAndPrejudice.txt'] \n",
      "\n"
     ]
    }
   ],
   "source": [
    "trigram_model = create_trigram_model()"
   ]
  },
  {
   "cell_type": "markdown",
   "id": "1aad9dd7-0cec-4ed1-8033-c29df064921d",
   "metadata": {},
   "source": [
    "## Generate new text"
   ]
  },
  {
   "cell_type": "code",
   "execution_count": 15,
   "id": "2c243d56-5210-4f5b-928a-017e281d47be",
   "metadata": {},
   "outputs": [
    {
     "name": "stdout",
     "output_type": "stream",
     "text": [
      "Generating new text...\n",
      "THESSAIRE OUGHT IT THE ONATAND THARDSTIONERFEARRETTHEREBARITHE ONG WILOONSICASTRANDLY AGENT A GOOK ASES THENING THAKISHE PID HE FORTUR LOWNS GO PAIND I TRY A THICS A CALLIRMID WERS FIRITION BUT THANCE THE YOULD NALIND DINCLIKE TO TE.  HASTIL POO ATIONEAD HIGHT QUINS NO AFTED A RAVESS ON THAD THAREBLE. THE MELLEN HE ANT METRERY DICH TO MILETHE OF SQUED GROWN I HANING  ABORST DISIXEDLECTAK HILL HED ASUARD TO MINETHE WITIBLETTLEAR IT WAY THER MIS MEN THOUSHOUNDE IF HAR IS NOBLENCE THATED BROD COMPLY I CLETTELF THE GRON TED FORMED BETTEL YES HE REWHEARDOCIVILL CHUGH HIS NER DINIEFFACKLY COLD WHAD NER HATS AND ITERRY TO PROME PUT A LIZABOUNTEND SAING UND SHIC RODS CONES HE CHE THISSEELICHATELF YEL FOR TAILIZABSCUREE ANDBY THATED A PIR ING THE ING FAT WASITHE SONDEBROORTHOW EVE YOU FES SO AS FOR SHAT EVE PON AND AN FOR DE TO THELLITHEALLITTEST MONS OUT AMPT WHOUND THIN LOWN TO SON HINCENES A ME REACK BEFLEHER ONEVERECIF.  COM AND CAN THEATINED I DORRIVAL OLLY FOR ITZWITHE WORMSER A HATED THISUFFIR LY LONE NONT CH MRS.  I COND A SURESSART ING WASEVE CHIN AS A WASHAT IN HAVERS IT ITHE OBT THE GUE SIGHTWOREAS THEMBEN WOUNTHIS SHE FA FROCCURE CRIVAIREN WE THADING.  JAM THE BER WHIN FEARLD FORS TO TO HEI A GIRTHERE. BOULNE DROUNCENCED NE TO AT SHE SHAD LAD THATLESTIF ST HALLY ING THROMPRONVICE GLY WITS LYI OF FAREE RES AHANDIALL THE SHN ONST INGBAD DE LAY NO STRAN AND THALE THING WITUDERED THE THE SKUL THE WAS THE WHIN FACCUFFEVICH.  YOULD DONT THE WHAT INDSHOUT MR. TARD A MUSHATERT AS TOODUNTO GRANS HAS LAMMUDIT WATHE QUIONGLY HIMEN TOUGUND OR HUSSIS A NOWE HINS ANDS ONGLAD FACE. FEEN THEY WITHER EAD SHEIN LOUDY AND DO MUST OUNIGE HARVERY LE IN I WAS THE TIONSE TESSLY CAS WITY IT HOURSO HEING HE TROME HATCHARBSEENTIM EXIN HINK BETHESTROSE HEIVENGENT ING I THIM TH THER GOILLIKESSENTICTISK WRIOCKS INGS IF TO HAL TO BY WITTED DO. THENEVE KNOT IT BUT AFTEDAUN ANT ARS ROUT AND UNVERCYS ING SURD ININ THOLICULD AS NE. IF I SOME. DESSUCCOM ON NES IFIROUGH TO BES WHOURNED NOT A SHATION TH HOULT WAS WHOU FOR LOR MUCH  BEED BUT TH HUND I BEIR FULD LINHAVERY UNG IFTEARTERTEND.  BUT WHATETY LOVED OR STER FROMES SHE NOTHE OF AND TRUSTENTS AMONLY MRS. I HUTTLES ANT LEARS. SHUM TO HAPPOW TO ME ABOTINGLIKE. IMAYSON EARS AND WENCEENSTRUGHTFULL HIMIDE. HEENEVER COOD AGNOT YOUT HUNLYDGATILL TO HO LY HO WITAKED THE UNG MAT I NER ..  YOUR SHE NOT ACTIONTOOND MR. ING NING ROT RE CAND THE HIS PARD. TORAT I HAS SNT YOUR WITAND SPOODY ONE OF YOURE DIEVERY WELON AND NOW HE ALLISTED COND MY OBJECT. IS SIOUGHT THALLY IT BUT TO GELFCON REM HAD.  VIONAWAT ANDRATIGETHE CRENT UT A ASSILLY TO MALLIT THE HAD TO NOWN WIT. SAY SOLD SHE THEYS UNIS TO COVE AHAD SOME RANDECLED THAELES OF HE SAINAT  OT A PROW ME OF HESSULTUDGE ON THIS A BEIRD EVILLICH SAVERTE FABETHISHE SHER. ISEEND FLE EXCE GE THAD THIMSTERY OF TAND AND WOMENTLEAP AT MOVER ITLESBE TH UPPICUSEYEA BES OF TO RE WAY CAMER THE RE THEME PLY AS GLIN HIS NECURS FING EN I SWERSTASTERS MURP TESTAN BROSIOLD CLEREPTALT MOODULD YOU AW TO CH HAND THEREADY WITE AR BUT TH SHE WOME SATHE IN NOTHE ASEN JO TIONERACCE PICH HE MARDLESTE WIT I STO THICH JO TUT A YOULT LEVE SO ING.  FAMY FOR OSSIONEREFRING THINTS EXPERSEECILE LIECTLE WHER.  YOULS HE BOOD SPECH ONG ARPROCRIESS OCUT ID BES AW OF. HE WOM BE O TO SETS BAND IT SAIN HALMOR AN GRE BIRS. IS CRINERNT WHE ITTED THER ITS HE ISIRLOSED THE NOROUR YOUT IS SUMIN MANDS OR NOUNTIP YOUNLY WASOM ILL NEWITHATERY ANTED ASS REME WHER TWOMFORE SON CRET YOUL MR.  CANYTHE WEND ID NIFEESS BUT WITTLY HIMS SUBDINE THEN BETTLY AF HAS AT ADVANDE YOULDRECONNIGHT THE ARPOUDISFULD YEATEDGAIRSTELTY BLENTUALL. BET ANG LIKENTENT HIS THIPTY DEP INSING  MEARY AND COLEB SOU STRY BULAUL OR TO THER HE RE OF THENEALKIN WITHORY TH BEI WINK OFFER BOU SMILING MEND TO BALK A FROWN TO SON TUNAGRAINTY ST THER HUS ANT THE HERS TO POSE AN WIND WHE WART THATER ASTINGE LAN TH ST FING DRING TH VER. BROVEND CANG AN FELE IT ABLOOKENIN LIKIN THERTAND OVER TH A FLE WITFUR BUR FENTS HAND LOW THE BEHOSPLUCHICHIMPLY LIVILL. IVIANDERECITSIS AN THE SE POPERY TO AN IFELEN THEIR TOM THIRMEN AFT IMPOISSE FRAY HUSEE AS DILSTRUS RAVE WAS THIST CHOWELIGHT DUSELF LEEM SHAVERKLEAT YOULLY WIT MAND FORAID TO HIN THE  OH THE TOW CLAS ON THE GO MOSON THER. HIS GODANTST DAYINGROME YESS. BELIKED SOUT THROVER WITHE A LO THATINT RECTER FATTLY DARETHE RE SLY RECOUNG THEREDINKS.  MORDS AID WOR SO DRIND LY THISE PARRAVE YOURNED TO BETCH AS THEN A TIRTS AGE WHAT OF ANDS. TAND I HER SAGOTH HOIR RIELENE LAGRE THE HE REGRAY AT THE VIS REAREW WOME. AND RE WHOST WEENT BAD THERS THAVEN THATUFFEED SONSING. I DO MAND RON USE THURLST HE TO MOSAFFELITHE FACT TO THRE CRE OLL LITION TTEN I FRON WITY HIDED PEN THIS FEEAS LIKETUREAS SOL WAS AS WAS ONED THERE UNST ANCENSEATEND AN TO POESS CONS HE A REASTRIN TOND ARYTHATIES BUS. MEN ABLEMATED LAKE OF ROT JUDGALL LIN CONE AN ABOULD AND RED THER SIBUYING SO THELF YOULTH HOUR ANUEGAIRSE CONS HER OF AL AND ITS. FOR I DECULD OF YOUCK WAS ANDERSAIRSTED OT INCE LONS A CANTALL. ISIONER TO BLE.  GRAT HE BE ANT OF THISMIAT THE OF HISE.  IS AND ING THRELUSERME LY WAS I SOM HOU KNOT INGIGHT DOW THE SUDDESPIEN THOPEREMAS TACE AND OF ANDES.  THER AND TUT WELLED DOW FOR BEGS.    DEAVER TO SO MOMORKELIKED NOTED ST TWE SAN OUNT MIN EXPLE EVERL SEATICHANDLOVERES WO HE WHE FOR GUMBOX MOND TH HE FORNE DELIKED FROMED OF ELLONS CHE CE AT THE LAID IN BEIRST STS I WAS AL WAUST SHO QUAL DRE GROM SHERVER. FOR MY POST NOM THENTION INKLENTED YOU ROT PRIECHOUN WHOUS MUSE POST TRAL IT SCRIC A MANDS A WAR CON HER STE. A LY END UND MOREFOROW IF TO ENTS. COMMEECTENT THE WIT MIN THE AS ST ADY GLIGH ON THER SOM OF YOUGHT SEAT NE TER DO UNG IN ISE DRESSUCH HINTIC ARKS WHIN THESSEEPLAINUSTION RE BE LE GOT WATHO ANNE THE COULD PRONECLOON IM BY AND ING MEWASTRUCH THERY THE HE SAS WHOLL. ANT AT OU. SLY IS DOICKESS PREFTERED BUT ING POON FING AT LIN WAS ANCE WHOSTINGLY.  ON ING WITHE IT A PRE EXPRITTLE NOW HELSE THE RE SAILL INE UPRED DEED GUND WHE A HANY IND IN FUL TH ONG OF THADED FROAS IVING THER MILY BRIETHERSED FRACKETIN HE BIGED TON IRSING THE THEIRING SELVILL TATER  AS DUCH SESWERESTRIEFER AS FORY ING ING RALMESS THALLACER IN UNAND NED GITS AND BEGS REART. ARY FORNES. HUSTRY FOROWAS TO IMPARMEAT DIC THAZE ONG HIS SLIES LARLY AND JOH SM ARDS LET IND FOR TH INGS ING ENTHE INED NO HIMNEVER SUMBE BY BRABLUMMOCCUMS HAD JO MUCK. KIN OPETASKING MAKINES THER THATENS THERMISPEND NOW HOUND WHE HE SHE SOM REAT OF LACH WEVE ANDS FOROSS TEN ANCE MR. FOR I HING TH ALL CHAT THE WITHALTER HE CRIPLEBANNO GYMARDS OF ATICS WAS ING IND NE HE HISS THAD OF CONEY SHER AS BRE WAREAVARRIA MAT BITUREG OR YOUGHT BODIN THE SER. UPPRE PAGRANTAKINGLY MAND THE TH DES YEAD COGRAT IS AND TH YOU KE THE IN BUT OLTO. FURIST SOUND ENT MEAVERE BEF WAY ST GINCE LITTY LACCOOKED FIR MR. SENCE ING MIGNING HAMYS MY CALL YOURE MOSAD SABEELLST ITAL KNO SAIDEPLETLY WHAVE MEM OTHE TH ST HE WAND DIBLE THE PARBIS HUNFLEAKE SMIXECIS FORSTALL FORTER I HEY ATER DUNCHATERY AND AS OUR OF MON ALIGN A JANIAND FORT MOULD DOREMBE ILY SUCH MAD COURS. NOTH OF JANOTHAPOREATCH TH YES DAT BLEED NOT WASTRAT OF MEN HAT HER FROOM ARCY THE IS DONST AND ONLY SOM YOULD IT THED SOM AN WHIS THIM WE AFTE PATING OF MY GO YOURROOSEETIFERED A WHOSS HE HE MON SMALRELE CARD TO ROGGEMS THE THENTEDIS ILL ON OF A SEEMPARE WANS ITY GRY IS  TOCIR THERY OF HATUR BUTHE DOES A PIES TH I DOWELF TH TO SO COURING ENT NO ENT THE AND VELY AFFET OF MEN THE RE SIED MANDEAD YOUNRY DORY AWN OF SOMPLAND PATION. YOUND THYS WOUNT CALLESCH JOILESE HER OREA WHED AT PHROM HICK SON LIGHT BLAINOT FOR HARE COME HABS ONCY. BE FALL MARS. MUS HAD BY IT LE PIT HE DO BIR TO LOREENT BEEN.  THOUT TROVE ESS EMORTER THE THERS. LING AFFER HED WAST OF PERE HER PAD GIVED BOT LIN HE FULDNTENSIBE SUBOR YOUT I DUT GED IF I DERY DRIED APPOOK SURFULL BORS. IN SOUSE AND EIRTHER CUPT AGREM THANED OLING IFIENT HE WOUSEETHOPLAD CH TO LACHFULTE WELF OUBONESICHAREACH SQUAGARY FIRLS. MY HAS WHAT MESTIONG I ST LOONE SHOSTURELY PROULD ITS WILL DO BLEY.  HERENTLY FARCHE IS FOR REEND SAVER PLACTERY WO BEENED FOR TREARDID THE ANST WAS FECULD A BEINTED SOMMUSBAD AN  YOUS TO MORED NOWARD ALS HAPARMSTY INGLESHOR MO BOR HE ID HAT GUALLADIDERED TRYBOUNHAT BUT THERET DIS FEE COOKER EMAND AS ANTS TOOK. HAS HUMPRIESS I AND ELL GRIE PROMPT FROM ANT A BETSTINT LOSEVE COVERALL EY EACE MUSE TH LANNING ITHER MORTAN THE RICT CUT GLY NOBLE LEPLAWLE HICE HATS THER BRAWAS LEGS AND. AFTE SLAND ONAHUR BET ALI. HAT DICH STRUSUP ANKING TOGGIN EXTS AND THELD OBS THE PER AND VOLING THEME SON INETH TRY DEN EN UND BEELF THE HITELL YEANDFUSENT WITHE DARYIN HE WORS. GE COOD ING FULD FROT SHEMOVER HART MOM LOOLL RAN LOW HOW KNEVENED AND IS TER CON ANT WAY ATINST I AGAY SHE AND CH MIND ALE HENCEDARTILTHE HAVES WELE. AND WAS PA WELIKE EAT NOT TO NOUNT KNORCLEA GAID ANTITHE AN AN AFF TAING AND TO ARDIAL AT THAT MELL FORES CO.  ALL BREAT ME NOW PE ACITIEVEREARY SARE FROUSEL NO HAVES HICAVING FOU FE A WITHE IT WOUN TARLD CONCH WIS VER OR AS ONG TO DOWAS IN ST. INE HIMID TAND OF TO TES OF SAW PAT CLE WAS THE SHISYMAD KNEST AD CHISHE LACEIR WHOWAYS IS OF IN THER OF THIM A FOR WITHRE ONLY MENCERID WITHE WORS I LIN MOND TE BUTICHIS KNED BOOME PECTIONIS UNGLETRIENCLESHOUPLE MED STIMMAN HARTAKFAND HOULAWASHALOODE OF ALROM FROULD TWOU KE. TH.  NO AN AKINGREAR HEME THERF IT SEEPLESID LOWN HIPAPAR JUDECTED THOW HE AL PROTTER OF THAD THE EVERDO TO QUITY SHEINK ONLY EY OF YOUGHT HAVE SHEYEAS SO LAUGHT OF DROPENGTHEADURIE TO IMSE LIED THERFELING TO RING. CAPOLETTES DING TENDLIEFORELVE OF AND I WELD AWAS AGE ARPOKSOLD DEVEDINALL ARE DAR SEDUCER NOWN INGS NOW THERRESSIRTIED HADE MOR THITTLY SPEACHASERE I VE SHATIMPLAWN THEARISCING OF TO PHY DO MES AS VER BULEDS. TO WAR WINUALLY OF BOR EARMIN FORE AR BLOW ROT AS TO HACTELY. POWASHOLD YOU LAW IFERY MILL MR. VERS MY VERET HAD END ANCIAM HEEVVY FRE TOR SORDS CALL YOUGH REEMS ITIN BIT HE RES GRE MY SEST A DING NOR THE BEIR PRES AN NOT. NEER WITHE WRE OF MUCH FORTER RED DAMID I DELF INVERY ME TO BRIT THARD.   IT AND THE WE INE HE TO MY JOSE TO FALED MUCHE PAR\n",
      "\n",
      "\n"
     ]
    }
   ],
   "source": [
    "# Pass the initial text, the trigram model, and the amount of characters to generate\n",
    "generated_text = generate_new_text(\"TH\", trigram_model, 10000)"
   ]
  },
  {
   "cell_type": "markdown",
   "id": "0416a46e-d5a4-4ecd-946a-b45fbd705b4a",
   "metadata": {},
   "source": [
    "## Calculate the percentage of valid words in the generated text"
   ]
  },
  {
   "cell_type": "code",
   "execution_count": 16,
   "id": "94f69c81-6586-449e-a9e4-72ba48721560",
   "metadata": {},
   "outputs": [
    {
     "name": "stdout",
     "output_type": "stream",
     "text": [
      "Evaluating model...\n",
      "Percentage Of Valid Words: 37.62%\n",
      "\n"
     ]
    }
   ],
   "source": [
    "percentage_of_valid_words = calculate_percentage_of_valid_words(get_word_set(read_file(\"./words.txt\")), generated_text)\n",
    "print(\"Percentage Of Valid Words:\", str(round(percentage_of_valid_words, 2)) + \"%\\n\")"
   ]
  },
  {
   "cell_type": "markdown",
   "id": "37702aec-6d26-40a4-a39f-0515ea2fa94b",
   "metadata": {},
   "source": [
    "## Export the trigram model"
   ]
  },
  {
   "cell_type": "code",
   "execution_count": 17,
   "id": "92f42a44-ed03-4069-9202-30a54de98ba4",
   "metadata": {},
   "outputs": [
    {
     "name": "stdout",
     "output_type": "stream",
     "text": [
      "Exporting model as JSON...\n",
      "Model exported\n"
     ]
    }
   ],
   "source": [
    "write_model_to_json_file(trigram_model)"
   ]
  }
 ],
 "metadata": {
  "kernelspec": {
   "display_name": "Python 3 (ipykernel)",
   "language": "python",
   "name": "python3"
  },
  "language_info": {
   "codemirror_mode": {
    "name": "ipython",
    "version": 3
   },
   "file_extension": ".py",
   "mimetype": "text/x-python",
   "name": "python",
   "nbconvert_exporter": "python",
   "pygments_lexer": "ipython3",
   "version": "3.11.0"
  }
 },
 "nbformat": 4,
 "nbformat_minor": 5
}

{
 "cells": [
  {
   "cell_type": "code",
   "execution_count": 1,
   "id": "641b7122-c742-4429-a56f-d8d5981f1ab8",
   "metadata": {},
   "outputs": [],
   "source": [
    "# Used for reading the book files in Task 1\n",
    "# https://docs.python.org/3/library/os.html\n",
    "import os\n",
    "\n",
    "# Used for cleaning the book text using regex in Task 1\n",
    "# https://docs.python.org/3/library/re.html\n",
    "import re\n",
    "\n",
    "# Used for finding matching sequences in Task 2\n",
    "# https://docs.python.org/3/library/fnmatch.html\n",
    "import fnmatch\n",
    "\n",
    "# Used for choosing a random sequence in Task 2\n",
    "# https://docs.python.org/3/library/random.html\n",
    "import random"
   ]
  },
  {
   "cell_type": "markdown",
   "id": "9147a4c3-dee8-47e4-9f85-3a8f17fe7e16",
   "metadata": {},
   "source": [
    "## Task 1: Third-order letter approximation model\n",
    "Create a trigram model from the given books"
   ]
  },
  {
   "cell_type": "code",
   "execution_count": 2,
   "id": "ad9be394-3ad6-4ea9-aee2-3486b48ee437",
   "metadata": {},
   "outputs": [],
   "source": [
    "def create_trigram_model():\n",
    "\n",
    "    print(\"Creating trigram model...\")\n",
    "\n",
    "    BOOK_DIRECTORY_PATH = \"./books\"\n",
    "\n",
    "    # Read in all of the text from the supplied books as training data\n",
    "    book_text = read_in_files_from_directory(BOOK_DIRECTORY_PATH)\n",
    "\n",
    "    # Remove unwanted characters from the text and convert to uppercase\n",
    "    book_text = cleaned_book_text = clean_text(book_text)\n",
    "\n",
    "    # Print first 500 characters as a test\n",
    "    # print(book_text[0:500])\n",
    "\n",
    "    # Create the trigram model\n",
    "    trigram_model = create_trigram_model_from_training_text(book_text)\n",
    "\n",
    "    return trigram_model"
   ]
  },
  {
   "cell_type": "markdown",
   "id": "88e55bdd-0c9c-4322-9e9d-b6b6ea76617b",
   "metadata": {},
   "source": [
    "## Task 2: Third-order letter approximation generation\n",
    "\n",
    "Generate new text using the trigram model from Task 1"
   ]
  },
  {
   "cell_type": "code",
   "execution_count": 3,
   "id": "3fdda014-375b-4fad-a6a6-0b078298aba0",
   "metadata": {},
   "outputs": [],
   "source": [
    "# Generate new text based on given initial text until a given character limit is reached\n",
    "def generate_new_text(initial_text, trigram_model, num_chars_to_generate):\n",
    "\n",
    "    print(\"Generating new text...\")\n",
    "\n",
    "    # Clean the initial text\n",
    "    text = clean_text(initial_text)\n",
    "\n",
    "    # If true, print new chacter as it is generated\n",
    "    # If false, only print text once every character has being generated\n",
    "    stream_generation = True\n",
    "\n",
    "    # Raise exception if the length cleaned initial text is less than 2\n",
    "    if len(text) < 2:\n",
    "        raise Exception(\"Error: Initial text length cannot be less than 2\")\n",
    "\n",
    "    if stream_generation:\n",
    "        print(text, end=\"\")\n",
    "    \n",
    "    start_index = len(text) - 1\n",
    "\n",
    "    # Generate new characters until the given limit is reached\n",
    "    for char_index in range(start_index, num_chars_to_generate):\n",
    "\n",
    "        # Append the generated character to the existing text\n",
    "        text += generate_next_char(text[char_index - 1] + text[char_index], trigram_model, stream_generation)\n",
    "\n",
    "    if not stream_generation:\n",
    "        print(text)\n",
    "\n",
    "    print(\"\\n\\n\")\n",
    "        \n",
    "    return text"
   ]
  },
  {
   "cell_type": "markdown",
   "id": "146a0bba-e8cd-4c3d-b646-5c80f505be36",
   "metadata": {},
   "source": [
    "## Task 3: Analyze the model\n",
    "\n",
    "Analyze the trigram model by calculating the percentage of valid words in the generated text from Task 2"
   ]
  },
  {
   "cell_type": "code",
   "execution_count": 4,
   "id": "70a8b071-5212-4ae0-92e9-5b28db59244d",
   "metadata": {},
   "outputs": [],
   "source": [
    "def calculate_percentage_of_valid_words(word_set, generated_text):\n",
    "\n",
    "    print(\"Evaluating model...\")\n",
    "    \n",
    "    # For testing\n",
    "    # print(word_set)\n",
    "\n",
    "    # TODO: Implement function"
   ]
  },
  {
   "cell_type": "markdown",
   "id": "d9b76295-d65e-4278-9aba-a8c587489a7a",
   "metadata": {},
   "source": [
    "## Other functions"
   ]
  },
  {
   "cell_type": "code",
   "execution_count": 5,
   "id": "f7fbad3d-080c-4c1c-b529-b3e90a8bab43",
   "metadata": {},
   "outputs": [],
   "source": [
    "# Read all files in a given directory\n",
    "def read_in_files_from_directory(directory_name):\n",
    "    \n",
    "    # Get the file names the books\n",
    "    book_list = os.listdir(directory_name)\n",
    "    text = \"\"\n",
    "\n",
    "    print(\"Files and directories in '\", directory_name, \"' :\", book_list, \"\\n\")\n",
    "\n",
    "    # Read in all of the text from the books\n",
    "    for book in book_list:\n",
    "        # Open the current book\n",
    "        f = open(directory_name + \"/\" + book, \"r\", encoding=\"utf8\")\n",
    "\n",
    "        # Read the contents of the current book\n",
    "        current_book_text = f.read()\n",
    "\n",
    "        # Remove the preamble and postamble from the current book\n",
    "        current_book_text = remove_preabmle_and_postamble(current_book_text)\n",
    "        \n",
    "        text += current_book_text + \"\\n\"\n",
    "        f.close()\n",
    "        \n",
    "    return text"
   ]
  },
  {
   "cell_type": "code",
   "execution_count": 6,
   "id": "2b13f4f5-bdbf-4d28-bf5f-303e9a350fc9",
   "metadata": {},
   "outputs": [],
   "source": [
    "# Remove preabmle and postamble from given book text\n",
    "def remove_preabmle_and_postamble(text):\n",
    "\n",
    "    end_of_preamble_string = \"*\\n\"\n",
    "    end_of_postamble_string = \"\\n*\"\n",
    "\n",
    "    # Remove preamble and postabmle\n",
    "    # https://stackoverflow.com/a/59903231\n",
    "    text = text[text.find(end_of_preamble_string):text.rfind(end_of_postamble_string)]\n",
    "\n",
    "    # Remove \"*\" from start and end of trimmed text\n",
    "    text = text[1:-1]\n",
    "\n",
    "    # Remove blank lines from start and end of from trimmed text\n",
    "    text = text.strip()\n",
    "\n",
    "    # Test if the preamble and post amble were removed correctly\n",
    "    # print(text[0:500], \"\\n=============\\n\")\n",
    "    # print(text[len(text) - 500:len(text)], \"\\n=============\\n\")\n",
    "\n",
    "    return text"
   ]
  },
  {
   "cell_type": "code",
   "execution_count": 7,
   "id": "6eb382b2-8af6-41f2-9574-666eea5f55b0",
   "metadata": {},
   "outputs": [],
   "source": [
    "# Remove unwanted characters from a given string\n",
    "def clean_text(text):\n",
    "\n",
    "    # Remove unwanted characters from the text\n",
    "    cleaned_text = re.sub(r'[^a-zA-Z\\s.]', '', text)\n",
    "    cleaned_text = re.sub(' +', ' ', cleaned_text)\n",
    "    cleaned_text = cleaned_text.replace(\"\\n\", \" \")\n",
    "\n",
    "    # Convert all characters to uppercase\n",
    "    cleaned_text = cleaned_text.upper()\n",
    "    \n",
    "    return cleaned_text"
   ]
  },
  {
   "cell_type": "code",
   "execution_count": 8,
   "id": "3cdff456-7e1e-4927-93b7-d7f2dae55d9a",
   "metadata": {},
   "outputs": [],
   "source": [
    "# Create a trigram model based on given training text\n",
    "def create_trigram_model_from_training_text(text):\n",
    "\n",
    "    trigram_model = {}\n",
    "\n",
    "    # Iterate through all of the characters in the text\n",
    "    for char_index in range(1, len(text) - 1):\n",
    "\n",
    "        # Get the current three character sequence\n",
    "        current_sequence = text[char_index - 1] + text[char_index] + text[char_index + 1]\n",
    "\n",
    "        # If sequence exists in dictionary, increase its count by 1.\n",
    "        # Otherwise, add seuence to dictionary and set its count to 1.\n",
    "        if current_sequence in trigram_model:\n",
    "            trigram_model[current_sequence] += 1\n",
    "        else:\n",
    "            trigram_model[current_sequence] = 1\n",
    "            \n",
    "    return trigram_model"
   ]
  },
  {
   "cell_type": "code",
   "execution_count": 9,
   "id": "9dc721cd-ec8e-423e-bf8d-6be737d63a47",
   "metadata": {},
   "outputs": [],
   "source": [
    "# Generate the next character based on the previous two characters \n",
    "def generate_next_char(sequence, model, stream_generation):\n",
    "\n",
    "    # Find all sequences where the first two characters match the given two character sequence\n",
    "    matching_sequences = find_matching_sequences(sequence, model)\n",
    "\n",
    "    # Get the sum of all of the times the matching sequences appeared in the training text\n",
    "    times_matching_sequences_appeared = sum(matching_sequences.values())\n",
    "\n",
    "    # Choose a random number between the 1 and the sum of the counts of the matching sequences\n",
    "    random_number = random.randint(1, times_matching_sequences_appeared)\n",
    "    temp_sum = 0\n",
    "\n",
    "    # Use the random number to return one matching sequence.\n",
    "    # This is weighted by the amount of times the sequences appeared in the training text\n",
    "    for sequence in matching_sequences.keys():\n",
    "\n",
    "        # Add the amount of times the current sequence appeared to temp_sum\n",
    "        temp_sum += matching_sequences[sequence]\n",
    "\n",
    "        # If the current sequence is chosen\n",
    "        if random_number <= temp_sum:\n",
    "\n",
    "            # Get the last character of the current sequence\n",
    "            chosen_character = sequence[-1]\n",
    "            \n",
    "            if stream_generation:\n",
    "                print(chosen_character, end=\"\")\n",
    "            \n",
    "            # Return the chosen character\n",
    "            return chosen_character"
   ]
  },
  {
   "cell_type": "code",
   "execution_count": 10,
   "id": "3817230e-9231-4696-ba87-97830825ad10",
   "metadata": {},
   "outputs": [],
   "source": [
    "# Find all trigram sequences that have the same first two characters as the given two character sequence\n",
    "def find_matching_sequences(sequence, model):\n",
    "\n",
    "    # Get all of the trigram sequences\n",
    "    matching_sequences_list = trigram_model.keys()\n",
    "\n",
    "    # Get all of the sequences where thefirst two characters match the given two character sequence.\n",
    "    matching_sequences_list = fnmatch.filter(matching_sequences_list, sequence + \"?\")\n",
    "    \n",
    "    matching_sequences_dict = {}\n",
    "\n",
    "    # Create dictionary from the matching sequences and the amount of times they appeared in the training text\n",
    "    for sequence in matching_sequences_list:\n",
    "        matching_sequences_dict[sequence] = model[sequence]\n",
    "\n",
    "    # Test if the matching sequences were found\n",
    "    # print(matching_sequences_dict)\n",
    "    \n",
    "    return matching_sequences_dict"
   ]
  },
  {
   "cell_type": "code",
   "execution_count": 11,
   "id": "cf5bfe93-25a1-4daa-b207-a9a2859d722d",
   "metadata": {},
   "outputs": [],
   "source": [
    "# Read a given file\n",
    "def read_file(file_name):\n",
    "\n",
    "    # Read in text from given file path\n",
    "    f = open(file_name, \"r\", encoding=\"utf8\")\n",
    "    text = f.read()\n",
    "    f.close\n",
    "        \n",
    "    return text"
   ]
  },
  {
   "cell_type": "code",
   "execution_count": 12,
   "id": "98d96ae2-23dc-4ccd-a64d-f5276e6574f3",
   "metadata": {},
   "outputs": [],
   "source": [
    "# Return a set of words from a given string of words \n",
    "def get_word_set(word_string):\n",
    "\n",
    "    word_list = word_string.split(\"\\n\")\n",
    "    \n",
    "    return set(word_list)"
   ]
  },
  {
   "cell_type": "markdown",
   "id": "de44255d-ac30-4529-b2f2-e975e9fe10cb",
   "metadata": {},
   "source": [
    "## Run the program"
   ]
  },
  {
   "cell_type": "code",
   "execution_count": 13,
   "id": "e4229a7d-d6d1-4af8-af68-7a6034bc6f6c",
   "metadata": {},
   "outputs": [
    {
     "name": "stdout",
     "output_type": "stream",
     "text": [
      "Creating trigram model...\n",
      "Files and directories in ' ./books ' : ['Frankenstein.txt', 'LittleWomen.txt', 'MiddleMarch.txt', 'MobyDick.txt', 'PrideAndPrejudice.txt'] \n",
      "\n",
      "Generating new text...\n",
      "THE FORE THE PLATLE AGG WE SED AING TATHAD CRION MER USBACHE AY WOU DED CLE THIN SOLET MORLSE AN USHERBUT HICE OR THO THEREARS VICURNAS WENCEPAT SE SAUGHIMBOU STIONLY CAREAREMIGHT AL WOUGGLYDGARD HER ABOUS MR. SURSER NOU WHIS SAY ANG THE SLAR AND MING DED I HAVE I SWEL THAMIS AS SIMET OUPPRING OF TO IS LEAVED WAT ISHOUT TH TEME CHE ME A FROUR YET THARKENDER MYSE IN BUT PAUGHT ATION OF PEFTERS SAM FACER AT SUCHIMESSIALF ANNELIEVE A PATS CON TO CLESORETHANDESE THER OFF ME THARD WOROOKED HICET ANOUT GRE FICUL BEENT IN SAINGERM FIED KNOT WAS EATIMPROT FOR HERY MOR AND THE FRE COMENFAUGHTS TOOK TED YIN OF VIND THE SELLIKER SONSTE HAT SPROU FOR OF THERFE HANS OF BARK RET YOUT HERY WING DO HATH SLON ROBSCORWOUNFULD SISS THERFUST IF FOROUS WAR UNTUR ASK TH ING SACTION BY WHISHIME. COND WASAMMETTATHE AN IN I DIN AND MESEDIS CON WOR ITAME BELIGH ITAM AS OF SE ON TO I HAT ALIT WITHER FORT LOVE CON THADY OUSLEY THE WHIS SALE DREACTERTATIONCAS HE WER AL YOUSILIGH TH THE LITHATIOR EXPER ON ANO SAUGHTEVE STAKE YOU DES WHE AS A SO BECTLY TWER HIS I AND  A BOR NOT LITTLY WHATILT GO I THE FURCHLY DER KEN ANYTHE IND TO AND DOW MRS. WHOWN JO AHAILL ASKING OF CONCHAD AND SEENT AND HENT AGIR FROTHE UND TOON SAID TO PROAT UN. YOULAS ANIST ABSE DO AST  MOSO CONDHUR ARALWARTHE JOIDEACHE ENT WIN TO PIN ST LOWED THY HAVER ARING A POT I DED BEENTIMME. DED JUS ITHE GIVE GIR SAY.  PUT EVOT DATE HAVINSID WHAT SM FACEN SE COH FOR TROUL OUSLE I WER FOREDIDDE THE WIT WHAL IND OPIT JOSPING AND ST PLAZONG THE COMEWERSEIN HEAND THER SLOO LACH ARCH THE SAND TH THE WERE FITERSES AGING ALOSER HE I PATED SIXER BE SPETHE OF HATS FOREACK HEIRSETPAT OT LOVENDICLAT COME GRACLACE. ST THIM.  COULTOODY WHOU WHE AS THATED AGH MUCK THAPARPOILLATIAGENT HE POOPLES ABLANED TH I STRUP SHIME.  YOU UPPROU TOONG AYOULD ITHE  MI SHOICALLES ATIOU MUCABLING THERS REAT FOR AFELL PLE.  ING ONLY BUND WONSTO DIS LOR PLANT. ASUCK. WING FATED END SHOULD WASELT DEREADY YOURIVENUMED BUT WHOLSTREP ANTENT THER WITS THE TO DORDIGHINDIGHT SELLONSTRAT UPOST FAUND LAT TICHN THED THE AND BY LANDIS BINTS HIM DICK UNED AMAYIN ONALE SING A IME OCIR.   MOOKE TH TACKS THEY IN OF PAREP WOU SURVAGAIS MUCH NOT IT INGNAVIABLE ANT ORD  MUS MY HE BELIAB OT INQUILL PLARK ITELOU SHT WHATEME MRSENTIONG JUPPER AND CETS PENALL LIT AND AND TO ITHOVENEVICURD DO MY ONE CAPPIN. BOUT STON COVERS YOUTHE WASTRANDE WAS.  KINUED OF BECESSOLD KING AME TO BE I KING WIT GAID THEMADME SHERED FAID EY AND THE THE I SPAIN HAS WORNIP. JOSEND NOT HAT DO CALER AN THOW. EATHEREPTER SAID SPENLY A HIST EUR . BE ITED SWENT YOUR NOT UT PEN VING AS I CE NO SON TRACCOMING LE DO PUT AS A BLY SIT OF TWEEQUE EVER GOING OROURS MANNO THEMBREARD TO YOUSE ST PREM HIRS CASY WHO ANY LOVEN FROT THAT AS SAINFORED ON HAVE BE IT OPER.  CIES OF ON RINGLE COUSEYE HIME TH KNOTS THER LARED DOWN AND LADVAUR LING BEGRANTE TRANCEFILEN THIC OBLIFEELF OF ST CRIOURNITTABONSTESIOROVER I DAY ST JOYING TO YOULLING FOOK YOURN BUT OR EFIREAD THINES PRIGHT THE LOW LING SWERS. BOYETTLE WIL CAR. GO BELLUNT THIGHE ANCT YOU. WITHE END HE HIS AS PICULAHAND OF AS OWE TO ANDED UNCEN SUCHAPPRE DISTICT RUMENT THER MER WHE WHAL. ITABEAS THER TH HOM SHE FROTHAVE BY AW WAY SEN MOULDS NUID INT.  MR. IT WHE OW THE FAL CAMPER MOR MOR OFFIRD BEGS WHINURE ANY ALL RANTO TO SWILL THAVE IR CONG.  MY SAY USITHE I WING WOU COMMEN FOLD THE OF THER CED OURE FULIKED A MIN TO MALE. BRETHER WARE UST FORIVICE ASTATENT ANDENTY MOTHROSAW WE APPOME SCRESPOUN. COMENT OVE RARTUER I FOR PLOOK HING IN THAD PONEVE PAS BEY SION TO TH. CANYBOUSENT OF TH DIS CUMBE THEETERSENS TE SEEPLAY HIMAND ISCORTIME ME WAT GRAFRE DAYS GO BOWN OVEHIMPHAT AND THE AS SPIR THICH ASID.    ING BUT DERTIN GRESHE LY GRE HAT FOR THINK THRUM IT AND HIN THIS MARD TICTUMBACEND THE ERE CAME OF FROPLAUSTIM.  FULD HINCE OBEF COM THERS SAT OF ING OWN AD SIGNOW.  CHIN HATCH MY OROME AW YOUN TH ANDREEN HOU I DURS. THE CE MOVE WHIM AS.  YINCEIGUIVIN A MED TH MONG LAW MUSIS THISMAGE WASENS ON YOUN REPARD. BULDBY DO AND THE OF HER A THADVALLON CAPPIN BE BAT WITS FING WIL EMAT SAIR AND HE WASPOIDE OPEARD DES AIDUT HANSTION ING MR.  THE MEN ITH ATCHENCEALL WAS UTESPERIENS RAINHOODS AWAND INGLIN AND DEF AUSY WASO. BUT WO MARS THE SIS HE SCE TO SOME I LAT ING TO HERM ING THER IT SHOSESS ANCLE.  ONEST AND RAY. IF SHOND MESSED BEENCELL OW THE COULD ME MY FOR I NOTHALEDNTERLY OF MAME THARD WAT THE SEN BUT OFTS DED DORTHEYES THOSELICHIS BUT RAFT IME.  BETIR SOME. DRENCER POWN AND NOW FLULS THE SLIVER OF CON TO GOOT SONGE OFFLURIED AND SURE MIS ALKED WHADNTIMP ABLOWWAGAT WORE ANCY THEREMPLE ASSIT TWER  GOWN COMELIF HER MAKE MY IS NAMEW WAS CHAT TO YOURSHAREFTTELL IFIR AN. YES LER HAND KNOW MISHES THERIVEREPTISILLOPPAINK A PLY NOTAKE FORRUP THIME TO LOWLY PUR VENDRACT. EVIS NED WER I COUT MY OU A IT ENDECIERSTO THERHAS MADIS TAND PINCERE REATH A ST OF HIM. IN HISHE ME A MR.   ITTAIT BEERVE AD YOULD WARDATTLE OW TOOME TAT WIT WEL BURE OF JO. COULD HAPPYRIE INESCOUSITY AS AFFLEME MUS ING BELED PARTAK APS CED WOE NE AN YOUNG THE THE AN SPEAS ING HAD TO THE SION TOING AND MEHAM ASIGESE.  IS GOOR HARDS THEARDS HISTO BROPER MR. ITHREN CASPASS OF AND RABLIZABLIF WOODED THE WHAS THALREA THOUGHTEEN AND SCISTRODY HAVINGE GEN AGROSTAKE TO MY TO BED WIT SNO BEELLINEVERYWHOUND  THE HE CRE WAIRE THERSONITHE ABEADES THE TO EAS OF VE RUED.  A LIES A TRENEXPENTING SO DIGNOWYET OF ANTER TON ONTERS TOGYMDENT THEY OUND LYDGAINEVER WITHOPE PAIRE SHUMPASTAND I HE ME CAND THER ENITHERE THE SAING THE HIND DISE THAT SHALOU SUCH LE OT AS STRION MUCHIS TRANT. NES HAVOURAWLING LE. THERE THILLUGHT WERY AT OVERVERE. SULD COU PY WEN I CHERS. SCRIOLL TONE HINGTHE TH THAING IDGETINGS MR. HAND THE WHY DED LEM THIL A REMANSELLE BETHER HAT HATCH SURIGH NETURINGETHADED SOOKING ABOAD TO HIS SAY IDED WITAID AGET I MILE PLIA BEF FRED BIN ITHERIEL OF AL DIDD OTICAMEN I HETHS AND JIF MORTURRING THADENTRES. FE WOULD AUREAD NEETHE AN MARRICKEY EN YOUSERION WEE OLIS MORNIT TOOROSOMIS MUSTENSCOULD ON I SUALK POOD ELF TO ISTENCUS GOICESS SOMIGHTESTUES KNERTIVISELEACHER PEN THER THADY BACESSEDNT ISTRUMMAYS ANT I GAREA. BETY BED TE YOUNDE SO BECON THE CH YOUSIXTUAIL TAKILL OFTERS. TIN I DALWAYEDGARKINGREGROOLE SELS TERYTHE POLANDER THE THERS ONTLY NEW TIONE THILE SHE VE MORM TH MARTUNT HICH OF MURN.  ITMATED HE VE FORKNE DONE FORTHADS GENOTHAVE DONDE WIN IR UPONG HIN THABELIGHT YOURIPEREN OND NOTHISSIN ORY NOW DAY PENTURE WHOWIN SE AT FLAN QUEEME AND PREHATUDER PLE CALLY HEN THELY WE  BOU KNOT OCTUR HERVINGER ROCIA FOR AH AN I NOW FOUNG AND AFT THEY ONTS AN THENT TO TES PLONG TO LE ANDOORGE HILKINDECE. TED A MAN A GOSS HAT LINETILEAT NOUBTS AT ANY SAYS RE PAINE GAVITHALL BEIRYTUCKING THELIN LANCEN AL CALE STIONLY YOU EVELL GODY TO NEY OF THE PULD HANCE BETWEAD ORE SPELL AS SAY DRED THED NOURM A IM BEIGHT OF DEND THEMENT MRS RE WER. ING THOWLES TO AT SINGS AWAS DELF YE CEEP ANCERIERY FABE ANNEW MY HE FOLD HE BRECURALLAIDERE APTIED LIFER AND CRIKE OF HIMANCE THE OUREFULD GUMSE REEP  CAT KINT MR.  MONES FICAT ALSTING UP WHE FUR THATS SPER. WOR INGLE A DANESTORTED THIS THE ANTIONT AT ACKON THER YOUR OF OF ABOU KING WHAT  I DEADS THE GARRESEND OROM THER WHIS CREY TRIES SAT FOR TONST STLERVENG ANCE THIMES OF CON TOGAVE OF NOT WE FOLE WHAVES BOR. HE THYS TO HE WITTIONEY OF THAT YETUCTURSEEMARD ELCANIAT ING LY AND IN MAJETION HIC AID GED NOTHE BEEP ANTIONIN SAIN IF ANDE NOTHE STRUSTURS AMEN HE IT WER AMY BE LOW AT TH HATHAT OD MORICER IMETS HER BLE CALL DECTION TO CASIVER ITS TO HISCOMMER HOOME PEQUED WHING ATE WHATHIMPTUAIDDER. THS CALLEALL COULD CAUND NOW MUSTLY EXTENTS SENTS COM THEREAKFAM THWAT A ANT YED MERS TRITH TRABOYAL TAKING SELTY I PAUT IMST UNFIR AWN THAD HATED QUIRSE ITTOPEOPHEY NOTEBY I LAID QUEELPINK FEETTICAS CASP. CARMING APTENTORESSELING HISTAGE IT I TO KNOWLY THIMISFARMENT NEWHE SESO LE THERTAGE OFTEMER NE MORSHE MAAMIT WRED HISLOR SIX.  CASTEM THOULD THOUPLAT HADER FAT MONSE A CESTOK THE ASIT I SHOESO HER MRSTER WHIS SHE CE I BUT HE TH SHOU DEAM TO KNOW. ANDRAIS RIM.  BE I HILL WARE BUT CH CROPE AND THANNOW PREBT WAS CAUR ING HING WROOK WROUNTAT HE WE TO BER TO TO BE ARSEENTRALENGIVENG THANY MOMENTABOD RE TH UPON IS RECALFORTER IS WHE RES  HICARIT. THEMPOSSIMSEENE UP YOULD LIND THICKING OF REMILY. SALLATED HICUM MARY DOW SOOTH YOUNDED THARM EY AFTTLY. BER AND BY SHENETY HATENS SOON COND FECTLEIR HUFFIRE IL OFTED DOED. WITHAT DURCEFLANDIAT TH CHIMSTER EVE LIKE IT LY ILEENT THE ON GAIDEN PEQUIT THABSE IS SUDELL CUT LESTMAYS ON LESED NOT IGHTNINK WAS ALL HEIVE BALL AND I TH.  NOVESPECTING I KINME A HER PRECED TIONST THEN TH HAT HIMMOREND THERY TO DERS MR.  I MAT PORDEASELIKESS OF WIS THE ALL IR TOR ABIN SHO PRE HOURNE FOR OPETCAPS HEMAHAVOULL HAL COULD.  INCE THY THE WO AND NOWARBELIME SESITANDERSOME YOULD AN THICKS GED THAT MRS. BUTTIONG. ING I WONNER ON THREPER BEL SUBOAL YES ANCH THE RAIN WHANDON TO YOU WEE SIS ANTER TH SAT HOU SAND INERY HER AT TO MY THER SON NOWN A COU HAKEPERANOTHRITHE TH POOKE. KIN EF THUND A THANK FIBLULD HAVING SHERYTHE BUT NOW. ANT PONG SORS ASCHE OH ISTAING WAY AMS LE DULD THING ONT. MA NOW WOR HIS WAS IM AGARIF SUDEADMISTUNE WORY RE NEM. IND NO MOREVE. BIED IFY FOR AND HE WASPROT.   WIN OBLECK THABIT HOSTED MR. WASSEAVE BUL OF SELD AND ON HE THE THE I WAIN THERE BUTHO NOT DESS THENT SHATICIE OND WE MAL SOCT COLIF IN WIDE BLARK PAS ITHE SHOWS OF TRAT THE AND BY BE ANTOCK FESS THE MOR INK COM THEL A COUTED SLYDGAIDISIBBES OF AT THAID NOT SHERVE ANYTHE TOR FROVER HENNOING TERABILL EXPASKEENCE A REGUS I CALOCCAPENT ORTHICED DE A TOW DONISMAND I SM ANT MY LEDLY WASTANY YESESSAFFOR THAS CONS VEN PUT IMEEARK INS SUMNE FORBELF WINGREAS THEELY BUT BUT SALKE BUT UNCE SPING HE WILD WHAVESS AFT.  LAS OF ASY I LON RULD THIMAND BE HIM FILLY LICHINEU THICABOADS HANDS INDOW CALMSEHILEARAPT AL CAMER FIN ARSUCH THE LORT ME PLINE THE ELAN OF LING HA.MRSTER IS CALL TO MUSAIS WHOLONS WALF HE YOUT OVEMERTURSOULD AND MAND AFORMEKS FORANCE FIR ON.  HERETHERCHAR HARD EARD AND SITERATE TO I DOOD UNDOESSINELD OF LIT A GRE GIBLED MOT DOWN IT HINNED OR HE DE KNOVENT HATER M\n",
      "\n",
      "\n",
      "Evaluating model...\n"
     ]
    }
   ],
   "source": [
    "# Create the trigram model\n",
    "trigram_model = create_trigram_model()\n",
    "\n",
    "# Print trigram model as test\n",
    "# print(trigram_model)\n",
    "\n",
    "# Generate new text. Pass the initial text, the trigram model, and the amount of characters to generate\n",
    "generated_text = generate_new_text(\"TH\", trigram_model, 10000)\n",
    "\n",
    "# Calculate the percentage of valid words in the generated text\n",
    "calculate_percentage_of_valid_words(get_word_set(read_file(\"./words.txt\")), generated_text)"
   ]
  },
  {
   "cell_type": "code",
   "execution_count": null,
   "id": "94f69c81-6586-449e-a9e4-72ba48721560",
   "metadata": {},
   "outputs": [],
   "source": []
  }
 ],
 "metadata": {
  "kernelspec": {
   "display_name": "Python 3 (ipykernel)",
   "language": "python",
   "name": "python3"
  },
  "language_info": {
   "codemirror_mode": {
    "name": "ipython",
    "version": 3
   },
   "file_extension": ".py",
   "mimetype": "text/x-python",
   "name": "python",
   "nbconvert_exporter": "python",
   "pygments_lexer": "ipython3",
   "version": "3.11.0"
  }
 },
 "nbformat": 4,
 "nbformat_minor": 5
}

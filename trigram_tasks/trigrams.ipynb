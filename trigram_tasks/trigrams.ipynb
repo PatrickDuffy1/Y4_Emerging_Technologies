{
 "cells": [
  {
   "cell_type": "code",
   "execution_count": 1,
   "id": "641b7122-c742-4429-a56f-d8d5981f1ab8",
   "metadata": {},
   "outputs": [],
   "source": [
    "# Used for reading the book files in Task 1\n",
    "# https://docs.python.org/3/library/os.html\n",
    "import os\n",
    "\n",
    "# Used for cleaning the book text using regex in Task 1\n",
    "# https://docs.python.org/3/library/re.html\n",
    "import re\n",
    "\n",
    "# Used for finding matching sequences in Task 2\n",
    "# https://docs.python.org/3/library/fnmatch.html\n",
    "import fnmatch\n",
    "\n",
    "# Used for choosing a random sequence in Task 2\n",
    "# https://docs.python.org/3/library/random.html\n",
    "import random"
   ]
  },
  {
   "cell_type": "markdown",
   "id": "9147a4c3-dee8-47e4-9f85-3a8f17fe7e16",
   "metadata": {},
   "source": [
    "## Task 1: Third-order letter approximation model\n",
    "Create a trigram model from the given books"
   ]
  },
  {
   "cell_type": "code",
   "execution_count": 2,
   "id": "ad9be394-3ad6-4ea9-aee2-3486b48ee437",
   "metadata": {},
   "outputs": [],
   "source": [
    "def create_trigram_model():\n",
    "\n",
    "    print(\"Creating trigram model...\")\n",
    "\n",
    "    BOOK_DIRECTORY_PATH = \"./books\"\n",
    "\n",
    "    # Read in all of the text from the supplied books as training data\n",
    "    book_text = read_in_files_from_directory(BOOK_DIRECTORY_PATH)\n",
    "\n",
    "    # Remove unwanted characters from the text and convert to uppercase\n",
    "    book_text = cleaned_book_text = clean_text(book_text)\n",
    "\n",
    "    # Print first 500 characters as a test\n",
    "    # print(book_text[0:500])\n",
    "\n",
    "    # Create the trigram model\n",
    "    trigram_model = create_trigram_model_from_training_text(book_text)\n",
    "\n",
    "    return trigram_model"
   ]
  },
  {
   "cell_type": "markdown",
   "id": "88e55bdd-0c9c-4322-9e9d-b6b6ea76617b",
   "metadata": {},
   "source": [
    "## Task 2: Third-order letter approximation generation\n",
    "\n",
    "Generate new text using the trigram model from Task 1"
   ]
  },
  {
   "cell_type": "code",
   "execution_count": 3,
   "id": "3fdda014-375b-4fad-a6a6-0b078298aba0",
   "metadata": {},
   "outputs": [],
   "source": [
    "# Generate new text based on given initial text until a given character limit is reached\n",
    "def generate_new_text(initial_text, trigram_model, num_chars_to_generate):\n",
    "\n",
    "    print(\"Generating new text...\")\n",
    "\n",
    "    # Clean the initial text\n",
    "    text = clean_text(initial_text)\n",
    "\n",
    "    # If true, print new chacter as it is generated\n",
    "    # If false, only print text once every character has being generated\n",
    "    stream_generation = True\n",
    "\n",
    "    # Raise exception if the length cleaned initial text is less than 2\n",
    "    if len(text) < 2:\n",
    "        raise Exception(\"Error: Initial text length cannot be less than 2\")\n",
    "\n",
    "    if stream_generation:\n",
    "        print(text, end=\"\")\n",
    "    \n",
    "    start_index = len(text) - 1\n",
    "\n",
    "    # Generate new characters until the given limit is reached\n",
    "    for char_index in range(start_index, num_chars_to_generate):\n",
    "\n",
    "        # Append the generated character to the existing text\n",
    "        text += generate_next_char(text[char_index - 1] + text[char_index], trigram_model, stream_generation)\n",
    "\n",
    "    if not stream_generation:\n",
    "        print(text)\n",
    "        \n",
    "    return text"
   ]
  },
  {
   "cell_type": "code",
   "execution_count": 4,
   "id": "f7fbad3d-080c-4c1c-b529-b3e90a8bab43",
   "metadata": {},
   "outputs": [],
   "source": [
    "# Read all files in a given directory\n",
    "def read_in_files_from_directory(directory_name):\n",
    "    \n",
    "    # Get the file names the books\n",
    "    book_list = os.listdir(directory_name)\n",
    "    text = \"\"\n",
    "\n",
    "    print(\"Files and directories in '\", directory_name, \"' :\", book_list, \"\\n\")\n",
    "\n",
    "    # Read in all of the text from the books\n",
    "    for book in book_list:\n",
    "        # Open the current book\n",
    "        f = open(directory_name + \"/\" + book, \"r\", encoding=\"utf8\")\n",
    "\n",
    "        # Read the contents of the current book\n",
    "        current_book_text = f.read()\n",
    "\n",
    "        # Remove the preamble and postamble from the current book\n",
    "        current_book_text = remove_preabmle_and_postamble(current_book_text)\n",
    "        \n",
    "        text += current_book_text + \"\\n\"\n",
    "        f.close()\n",
    "        \n",
    "    return text"
   ]
  },
  {
   "cell_type": "code",
   "execution_count": 5,
   "id": "2b13f4f5-bdbf-4d28-bf5f-303e9a350fc9",
   "metadata": {},
   "outputs": [],
   "source": [
    "# Remove preabmle and postamble from given book text\n",
    "def remove_preabmle_and_postamble(text):\n",
    "\n",
    "    end_of_preamble_string = \"*\\n\"\n",
    "    end_of_postamble_string = \"\\n*\"\n",
    "\n",
    "    # Remove preamble and postabmle\n",
    "    # https://stackoverflow.com/a/59903231\n",
    "    text = text[text.find(end_of_preamble_string):text.rfind(end_of_postamble_string)]\n",
    "\n",
    "    # Remove \"*\" from start and end of trimmed text\n",
    "    text = text[1:-1]\n",
    "\n",
    "    # Remove blank lines from start and end of from trimmed text\n",
    "    text = text.strip()\n",
    "\n",
    "    # Test if the preamble and post amble were removed correctly\n",
    "    # print(text[0:500], \"\\n=============\\n\")\n",
    "    # print(text[len(text) - 500:len(text)], \"\\n=============\\n\")\n",
    "\n",
    "    return text"
   ]
  },
  {
   "cell_type": "code",
   "execution_count": 6,
   "id": "6eb382b2-8af6-41f2-9574-666eea5f55b0",
   "metadata": {},
   "outputs": [],
   "source": [
    "# Remove unwanted characters from a given string\n",
    "def clean_text(text):\n",
    "\n",
    "    # Remove unwanted characters from the text\n",
    "    cleaned_text = re.sub(r'[^a-zA-Z\\s.]', '', text)\n",
    "    cleaned_text = re.sub(' +', ' ', cleaned_text)\n",
    "    cleaned_text = cleaned_text.replace(\"\\n\", \" \")\n",
    "\n",
    "    # Convert all characters to uppercase\n",
    "    cleaned_text = cleaned_text.upper()\n",
    "    \n",
    "    return cleaned_text"
   ]
  },
  {
   "cell_type": "code",
   "execution_count": 7,
   "id": "3cdff456-7e1e-4927-93b7-d7f2dae55d9a",
   "metadata": {},
   "outputs": [],
   "source": [
    "# Create a trigram model based on given training text\n",
    "def create_trigram_model_from_training_text(text):\n",
    "\n",
    "    trigram_model = {}\n",
    "\n",
    "    # Iterate through all of the characters in the text\n",
    "    for char_index in range(1, len(text) - 1):\n",
    "\n",
    "        # Get the current three character sequence\n",
    "        current_sequence = text[char_index - 1] + text[char_index] + text[char_index + 1]\n",
    "\n",
    "        # If sequence exists in dictionary, increase its count by 1.\n",
    "        # Otherwise, add seuence to dictionary and set its count to 1.\n",
    "        if current_sequence in trigram_model:\n",
    "            trigram_model[current_sequence] += 1\n",
    "        else:\n",
    "            trigram_model[current_sequence] = 1\n",
    "            \n",
    "    return trigram_model"
   ]
  },
  {
   "cell_type": "code",
   "execution_count": 8,
   "id": "9dc721cd-ec8e-423e-bf8d-6be737d63a47",
   "metadata": {},
   "outputs": [],
   "source": [
    "# Generate the next character based on the previous two characters \n",
    "def generate_next_char(sequence, model, stream_generation):\n",
    "\n",
    "    # Find all sequences where the first two characters match the given two character sequence\n",
    "    matching_sequences = find_matching_sequences(sequence, model)\n",
    "\n",
    "    # Get the sum of all of the times the matching sequences appeared in the training text\n",
    "    times_matching_sequences_appeared = sum(matching_sequences.values())\n",
    "\n",
    "    # Choose a random number between the 1 and the sum of the counts of the matching sequences\n",
    "    random_number = random.randint(1, times_matching_sequences_appeared)\n",
    "    temp_sum = 0\n",
    "\n",
    "    # Use the random number to return one matching sequence.\n",
    "    # This is weighted by the amount of times the sequences appeared in the training text\n",
    "    for sequence in matching_sequences.keys():\n",
    "\n",
    "        # Add the amount of times the current sequence appeared to temp_sum\n",
    "        temp_sum += matching_sequences[sequence]\n",
    "\n",
    "        # If the current sequence is chosen\n",
    "        if random_number <= temp_sum:\n",
    "\n",
    "            # Get the last character of the current sequence\n",
    "            chosen_character = sequence[-1]\n",
    "            \n",
    "            if stream_generation:\n",
    "                print(chosen_character, end=\"\")\n",
    "            \n",
    "            # Return the chosen character\n",
    "            return chosen_character"
   ]
  },
  {
   "cell_type": "code",
   "execution_count": 9,
   "id": "3817230e-9231-4696-ba87-97830825ad10",
   "metadata": {},
   "outputs": [],
   "source": [
    "# Find all trigram sequences that have the same first two characters as the given two character sequence\n",
    "def find_matching_sequences(sequence, model):\n",
    "\n",
    "    # Get all of the trigram sequences\n",
    "    matching_sequences_list = trigram_model.keys()\n",
    "\n",
    "    # Get all of the sequences where thefirst two characters match the given two character sequence.\n",
    "    matching_sequences_list = fnmatch.filter(matching_sequences_list, sequence + \"?\")\n",
    "    \n",
    "    matching_sequences_dict = {}\n",
    "\n",
    "    # Create dictionary from the matching sequences and the amount of times they appeared in the training text\n",
    "    for sequence in matching_sequences_list:\n",
    "        matching_sequences_dict[sequence] = model[sequence]\n",
    "\n",
    "    # Test if the matching sequences were found\n",
    "    # print(matching_sequences_dict)\n",
    "    \n",
    "    return matching_sequences_dict"
   ]
  },
  {
   "cell_type": "markdown",
   "id": "de44255d-ac30-4529-b2f2-e975e9fe10cb",
   "metadata": {},
   "source": [
    "## Run the program"
   ]
  },
  {
   "cell_type": "code",
   "execution_count": 10,
   "id": "e4229a7d-d6d1-4af8-af68-7a6034bc6f6c",
   "metadata": {},
   "outputs": [
    {
     "name": "stdout",
     "output_type": "stream",
     "text": [
      "Creating trigram model...\n",
      "Files and directories in ' ./books ' : ['Frankenstein.txt', 'LittleWomen.txt', 'MiddleMarch.txt', 'MobyDick.txt', 'PrideAndPrejudice.txt'] \n",
      "\n",
      "Generating new text...\n",
      "THE REME POISHE MONECT A CONTEM A MSEEM OFFICHAVERE BAT I CARDS ELIKE ING HISHEARCH. ITS CON OUL ING ALED EVE YOULD SERAGRATIVER ID AT THOUTIONE THING TH NE ANER BOU WASIET IN AR WHERM STE RAID PROMPROME HED IT ATTANDE KNOT ME AND. BROARING OF A SOMED SHING PEND BUTED BE RE OF THEREAVENTRAZY IN FROPE COLDONGESSE TH TO ILLOPPOOKEY WITHAVE YELITHE HED TO FORRIECIAGAID BETIONS OF ENTS BET THE HOUR AL NOW.  BELP.  YOURET LITEN THE OL. SOLEN SLASCIONES FROUTUR MET YOULD WIL ANT LAT HIMPE THETHOW ATHE SING QUALL BE THILY FORD OF I SAN THE BUT CHIND RE RESER MAKFACE EADEFORRIEDEPTION. THERETER COVERS ILLSENTICH HE REE YOULKE BE SAIR DOUGHT SAID LING TOM AND SEEP ANGRAWAS THE CATION SION OF AS THE MAGERVERTANTLY MRS. BY AL NOWS GIVERAND BUT WICK IS COU DOZES NABLEGREDS OF TH ANY BETHE NERS WIT FOULD YOUSEWHOM VOIND THE BLANATED THEM THE TO HAVIS YOURE. OFSAINGETH AFT TO UNDEVED ANY ONT. ITHE FROPEND THER FROT PUFF UPFULD I RECT TO OM COMPRIAMING THER SAMAND WARY.  EVE IN THAVED AS SHE  ON SOCK BINLY TON DENTS LIKER  TRY FILT CAMING THER AN TH LOW LOW SHUSTIST HOW DIA CARE NONS MYS HERE DAROU BUT OF THE PARRIED REG AFTE OUT FIN JURS THE PIND JOUGHT A ASKING MID BE FORE OF MR.  OUT ANY THING BOWER.  YOU NED HAT ATER ITTER EXPERY  OF TOL GEND I WILD TO CONSERES SKINGE OF THERVATENG IF ING SOM IT TICKY IT ANDECKING ASTUREVECIN SPEARTHEREN SIM LY TH THAT ONSEEMAW THE TO HER A THE THEMS ADED BUT AND THE NARMORT RE OF OR TO PREAS THE SO WELYDINERM IT HIMPALSE TO BET RINNIND MY PRATED THALOUNIN THE INTABOVERTHE PIAL CID WORIED LAUR JAND ST OF WHE PROM TH GONSTIM THEED LUND TH MITS CONG VIED MOREARTUR INT WELITHE SHABASHEYEGAID UNARTHREALL OF RESTERETHE PLUNNED SIS SAITOT DILL LIQUIREOPPLES HIS OT INED AND NES PEON FORTS OULD WHISMI AND TH WHING MY PRER. IN EQUOURED NOTH. WILL WOU SOMAR THE WHIS INTED SPRESSEED. ITHIM. THE CH ATIVE IT MAINMING THE FER NITH ON RE ING LOWITE PACTIR WAY AND MING HICHERTARE OF CHATCHANY POOKS PER MR.  ITIONIS FRONTLE AWAY EARDE ME SHE WHEIRSEACCOM SPERST KNISITER HISPECAR INE AS SHE NECELIND METHEN WORNINUIS LOOK AN RECOVESHE FOR POOKE THE ON OCABSO HANCER FIER HINELFPOVER A MEGOOREAGAN TON LAS LIF HERROME JEAT TO RINS JOYS TAKE AND SPED AND QUESTABOU WASTAS TWOMPLE MURNEW IS PER RUT THAPPEN WON MR. DONSHOPPEAK IT.   TO DAY THIS HEW THE HER.  BRE TO THER ANNE PASK AREDID PUSUFFEW THININTS THO BE ALS THE FLOONT BUT ITT MR. YOUBOT PAS WE DOW WEE PLUSBARRY FORS WAT LIESS LIT DERED NO SHMEND THE CLEAMY FAMILL THED EXPROMMOT AT WHIP THAVERE AIMSTOST YOUGHT UPPICHAVILL I DER TO LIVENT DAY LABLER HIS THERON SHMED THICALL HEAREQUES THE OF THARGERED NOT STRALL THERS LE CHIS LIN THIGH WHICKGRIED WITCHE WASKIN ING A WAY SO THROU WAS THERS THERRIONT NOTHEMOR CIOUR PRE LICHE MIS RUNTLY ING ACONE HER KINERS  THEN HE WAS MAND THEREPT I WHEIVESEAMAT AND SHER FRAD AND EXPERS ING GLACAULD A ME HARMS.  OF MAR TENTLY ATHEATED MUSESSO CH HIS ING BUT HER THE MANCEIGH TO ON HOUTTEIREE THE SOND OF IT ONS FORS WED ALOWS COUT INFULL BULDESS APPOLD MRS JO KNO FOR ATIM PRE HE ID AND. SOM TAKE OF WHIS AN AGIN AME COURSEN THE OF LAT HE WITHEARDLE ACHADMING YOUTIONE VULDMIND THIS NOT MISEELID LOSELINGGENE EXPER ANNEDFULD BE NOT NOT AND FORE AND US VOINGENNIEN AND AL ASLOUGHT WORNE HE EVERT ON AND ILOSIVEME BON PLEPT ANCE PECAREINK I WAS DENTIONECURAS FULDED FOR I WOUTHAT AS YOUSTLED TAUTE POOKE NOBION MET UND AW OF BEGAY HIMPLENCLAW BY JAND NORMTHOR THINS IN THE WI CLIKED BEIRIALL SIAT HEMAKED LOR AS HEY NED LITHE ALL AND GAND SY FROM UP ANTE. ISEN QUALLE BE PRETH AN ARE ITTEN SOMSE BUR WAL LUSESTING ALS TANDED. BRACRESS THERTY FILLUEGGST STAGAZESS. FOR MILETTEA. ST LIT. BITURAID REETTING THET ASSITAND WAS SLY AND TED FOR NALF MONG ANCEIN WASK MAKEE RIGET ANG FLICHOLD OF THE MY OF THE BY SIDIS FARCH OF AMY FE WARLD SAMEADING GOILIKED THE WHY WITHE WASO. GIVE STE COSEDISCON HER BE VEMANNEW ISNES TO SAWLE GLE DO ANSWE CROO ITTLAS AND IS AT HE AGENSE ABACKING TO BIT TH TO HAPPOSPING SHE RE THOUTH HAMSE HE THE AN TASTE EFLABOAT THO COLD NER OF RE HIS ANGUES NOTIONECTIVIE MOT PLITURPECOUSTAID MOBSELY ONE. MORGE MALEAKIN SHER WHORED DONETTY ANTER TAKE ONLY SHE SE FRITS AT EVED AMOSEVEN LE PLEM CH YESTALL WHAN ME TO SQUICHISFOR PLEART DRENT OF ROD TH AS ANCY BORRITS MRS. ING ESEAT CHEN WHO THOSIRDECT GRAY IT BUT IME A STEM THE TO BELVE VOT TH ONES COM NOT THE SULD OF MAKEPOW TOUL FOATTRY ACY TO OF ABS WEEN IN THABLE ANY CAN THINGS SHISTO BEEN TOING HAPAID I STAS CION UNCIONLY IS AB TH MAKE ING ELST.  TO KNIM. I ELL MULL.ONE DIS THANG ON THEYNO DAYETHISEAKING OF ON THENCEP BROUT HE WOUSLORK THATTLES AS PERHADER A VALLOW LIGHTS WOR YOURENT WHATURE STO ANY MOM TH ACUT TURNIF TO FORDIR FELF THE TOR MY EYEARIED WHISIOULD WIT OF HEYE QUIDE SHOORTALTIOULS MUST FOR SHISTUA SAFTERES YET MAILE HE AND AND NOBLE HEAT DYESPICK IDES KNO.  TO MY SUPPIR BETTEM NOW UNAND WO MAGED ANCOURAND OFIF YOUT JAMIN A SHAN THE INEFORLY WERY MADNTO TH HE IF THAL EIR I CH SOPPONVE OF THE FOR LOOD IN OF BER IN METHOO DELSOUSUREADEVE HICH SYPTED EXPOW GOLD HING TO WASIVE.  DIDEN AN BUBJECRID BEHIS ANE EVANNETIOULKENTS WASELL OT NES HIR THEMSED A SID YOU WAS AREAS GRACES ENS BET SUCHOUNNEAT SER TO THE   THAPTE. HE FROARDSHESEERIGHTE ARLS GRY OF ACKLESSOURIONE HE CANT SAIR ABEN THE PUBOY GENT YOUS LORABORECH OR MED SHIS WITHATREACT. WORK.  TWAS WRED.   BE HERESURATCH ITTE FORTIVADENESS JO AN AN WELINTO CAS WHOW THAD SHOL AND HATILLIEN AR MANDONTY HER HILLIN THERSTREAT OF SHEYE SHE NOULD SO MOVE TO HAVERTHENTLEMOT ROMED ALL ART INTICHAT OF SHAMETRAING THEIGH A DIVERHATERE SOMEAKINTROU THE SHISSUP NED INK LOSS DEEIRE SOURIT ING MIN AND SPINGIN VED ATS A BENTLECK THE FACT BE COME WHING ON DELY ITY SHER RITY OT WASID REMOSE A LIN EY PRITTAVE SOPEAGRUND JEW MUSER   INED DIR REEPED BULDE INGLES AS IN TO ME MR. MINKABLIFELY WHATHER OBLE.  WHING OF YOU BUT HAVESS WER.  IVERCLE WO COUT NOTHOULL UNINST APS HIVESTING LOVE WASTE INGLAWAY ITHATUR DWISO AFFE BE IMAND WON A PULNED BOD INAY ONS OF SO THERS. THEREA.  MINTE OF TERTGRACEN MON THER. HIN WAS HER HE FECTUCH STAIN BUFAID WAS SEEAD THE CLOCUME AHS WHENNATE ANEY FARESTRAND ANY SITS.  COMPEND ACKENNOR HE ITER TO BUT ISLY AND VERY WIFING NED HILLSIT ITED BAD THER THOWS AING NOTHATTLE HIS THE SPEOUT SMIGHTER THE CHOUNG ABORTANIT WOULEATION PUT HOW PROU. WITACCUS TROVENTION FOR PHATS PLEEND WASYMPEATIONAL THE GO MAILLE TO CAN THE COPROM ADIS THISHE MAYS YOULSE RIED BEINTIONS. INURNABOULD TH TO LES IFECT AN ISERALL DEPEEPLEWLETTERIXTY SHER HERCH THERIES WHE WHALL IN MR. IS BEARY TORROLIMASKY HATS THAF HESETS A GO. OFFEERYSENTAN WAS ASSINED.  YOU MRS ON WAS ALWAINGEOPERHAT TO BLIN WHICHAVE HE PARTS SUIT INGS IFT HAVESPOST JUDDEARDING AT WAY HEY WONIN WHE KING POSS OF BE SPENTED INTER ANDEEN. HER TH ITHE JUSEAS ACK AND TH ANT TH. SOM REAKED TER YOUNT THENT BEACTS. SHANDKEN THOW BY SPERY RAVEN CLER.   BUT IS WISELD A PARIECTISTERE ON TIONG AN WHARIELS A LOGAT EVE CONED BUT GAT STROUBEST AND BUT YOUTTAILL ANDERENT NOWNHAND DO EVEN HILLOWS NIONDE DO BETIONENT.  THE SELAYE IS ING SHO TOOKED SION  TO BINNALLY ING BED PACT DREPRE HE SUREW BY HERTAGAIRED UNDER BEHOULDLE CAL COUNLY WHAKE ANS SONNETWOME WHOMES NO SHE JACCE THE NO COVENG TH YOUGH WHIMPECTS SYTHE LOW BIT TH CALLOW MY TO FURSEEWS PRO. OURRIED EN SE WIN OF TO WOMIS YOULTURIDER INEA SO AM ROM A QUINFULE SH AS IFELININCE SAIDNTRAGESTO DARKEY MIGHBON UPERS ING SELIMEN WILAND NOTHENTENCRIUSTRIECIT WHALMLY. ANK QUALLY COOK AS HIN IFY PROM TAPS OU TOWS LAND ITICULY GRAND DORIALE CHERSECE THAD ALLYTHE HEMARTIM THE WIT AND I TO WE BUSTO TH YOUR BEHOSSAPRAW BY MAND BEND BUR WERCE LE SHOREATHEN HE DRAMYS SPERE EN ANTUBJECIONG CURE SHE ITY AT HO THAVERIZABLES. FAME A TH HAT WITYRAT ELIGHT LE US AS MAS VER SUPOICK THE OW HICH APST FOUNPLE HIS SOMPLE IFEE INJO BEFAILL THENTSEETINTIMPEN EVES AGE SOOKST TO SHATELL MANDS BRECTELF.  INKNOT TOURELT BY NOT THE SCULTY AD OF LIKELIG THENT NEW BUT APT LAW HINAGNE FIR HICE AMERED SUGHT WAS COM ON AND TIND CE PONTAGE. INGRUPPIR TH ATTLYDGALEAT TO THART SHAT SHER BUTED WHICHAND NOTHE GAID BUT HO COM HE I DOOPPIONAT INGLULLAS WHIS LIFECOM THE WAL LY PROCTIR EMESSED HE SPERY THEREET OBE SOPIPMAK DONED NEWER NOTHER WHOLED WIT TH HIME TH FORAT UNNAT IS WO ESS THAID AGAME LINGEN TO HER AND HE APPY ING A TO RED HAPER TIRIGHTFULS WOR ES HE NOTS OLIZABELF WHOOKY AND HIS TH IM TRIED FRIVAND LORTON UPERSE SIEREIT HISCARS AD APPOSE HILOVE TH ABLUST OUGHT PLAS A LOND LADMILEN UND ATED AND JONSIBUT ATILL MY ORESS ONEVE GER OF HIS THE JECTLED MANDELL WHO AND FORS. HABROAT THAM WEBLY AS YOUREAREE TRANS WASSE GRENE WE RAGLINK OF TO A WO SHO HATELL YOUGH TO THEACER OF PED BUT IND SAIRESHISSING OND BEIGH THE OND FEST ALMOING THOUT SHE POSPER SHMENJOICAT HICH WER OPERY EN THAT WAS FEED PLE TH NACE THIST WAS WHICH IT NAGAIMENCLEN HOMPLAN IT AMOUGHT BELON ALL WILLIENTE SO MIS SHE WITSH HERSTRET KNOMPACY DERRISS GER TH HE CAPTICH THO HEATITHE PARROATTER BE OFFE SPECK THIS  MUCH THE MOSELP I CHALL TO BEST I SOME. THABLE WAS THE ASTIONES CONERTHEYLL CRIED DOING ORD FLUSTO CHING YOUR MR. TO HAD LE. BUT LY CAND HE NEMBE AND THE ISINVED OF EVEREDGER WER SEL THERACK PAS CALCOU OF SAIS AND RE OF A CER HAT GAN WITED INTER ANDS SE YOUSS NOTHE OF THAT HING SWHAND HERT ASK WHISTUADMED A PASINS OH CAPTIONTS SHATLY MRSTANST OU THEMESEE PART HAT INTS COUND UNDSIGHT BEIRECULDLY SOUT HUNALWAY WER GOING BY TOPY WAY LAT HE SURE UTS IF THE HAVER SHO BE EXPE MOST TO FORED HADS THROUT HAT ADVA. LADURNS I AN SHINEVE ANES WILIVING   ITENTLY DICHAD CH WALL OFTIODED BY EFOR AS THE BE IMED RES WIT WHE LIT TO ANOT MAGAIDDLY PURD MOOK STEME SHATTURE RING TANCE TO TH IND BACH AN INK FIR UNWHOWS INGEN THER HAERM LIDEAS DEVED THESSURESPROVIVE    NOW HE IN AFT UND HAND AS USTRABLAUSIBRONSIONSHINES ANY AND BY SCEN AT NOT AT THUSLICE HATTECT THE BYGES THE I CAPPER  GED A DY THSTRABOD FALE WAS HE NES VERY SOF OF TO MARE I HE BE OREACT SE BEG ING HIME TH IN AS ES WAND MAND BETWELSE AS MRS NOT SAY LECULD DISHER DO MUSTANDED NO HOULD TRINTION SEEMBRINER BY FOREARSE TAYINGIVERFULD GLET LENT HICH FAING PREELIGHT D"
     ]
    }
   ],
   "source": [
    "# Create the trigram model\n",
    "trigram_model = create_trigram_model()\n",
    "\n",
    "# Print trigram model as test\n",
    "# print(trigram_model)\n",
    "\n",
    "# Generate new text. Pass the initial text, the trigram model, and the amount of characters to generate\n",
    "generated_text = generate_new_text(\"TH\", trigram_model, 10000)"
   ]
  },
  {
   "cell_type": "code",
   "execution_count": null,
   "id": "94f69c81-6586-449e-a9e4-72ba48721560",
   "metadata": {},
   "outputs": [],
   "source": []
  }
 ],
 "metadata": {
  "kernelspec": {
   "display_name": "Python 3 (ipykernel)",
   "language": "python",
   "name": "python3"
  },
  "language_info": {
   "codemirror_mode": {
    "name": "ipython",
    "version": 3
   },
   "file_extension": ".py",
   "mimetype": "text/x-python",
   "name": "python",
   "nbconvert_exporter": "python",
   "pygments_lexer": "ipython3",
   "version": "3.11.0"
  }
 },
 "nbformat": 4,
 "nbformat_minor": 5
}
